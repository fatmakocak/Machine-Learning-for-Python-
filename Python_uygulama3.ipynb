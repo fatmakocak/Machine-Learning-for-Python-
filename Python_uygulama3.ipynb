{
  "nbformat": 4,
  "nbformat_minor": 0,
  "metadata": {
    "kernelspec": {
      "display_name": "Python 3.8.1 64-bit ('3.8.1': pyenv)",
      "language": "python",
      "name": "python38164bit381pyenvf307e63da0224bf8a7246253ff8d7272"
    },
    "language_info": {
      "codemirror_mode": {
        "name": "ipython",
        "version": 3
      },
      "file_extension": ".py",
      "mimetype": "text/x-python",
      "name": "python",
      "nbconvert_exporter": "python",
      "pygments_lexer": "ipython3",
      "version": "3.8.1"
    },
    "colab": {
      "name": "Python_uygulama3.ipynb ",
      "provenance": [],
      "include_colab_link": true
    }
  },
  "cells": [
    {
      "cell_type": "markdown",
      "metadata": {
        "id": "view-in-github",
        "colab_type": "text"
      },
      "source": [
        "<a href=\"https://colab.research.google.com/github/fatmakocak/Machine-Learning-for-Python-/blob/main/Python_uygulama3.ipynb\" target=\"_parent\"><img src=\"https://colab.research.google.com/assets/colab-badge.svg\" alt=\"Open In Colab\"/></a>"
      ]
    },
    {
      "cell_type": "code",
      "metadata": {
        "id": "qNm4IQqrM3cn"
      },
      "source": [
        "import pandas as pd\n",
        "import numpy as np\n",
        "\n",
        "print(pd.__version__)"
      ],
      "execution_count": null,
      "outputs": []
    },
    {
      "cell_type": "code",
      "metadata": {
        "id": "DwYR7IbhM3co"
      },
      "source": [
        "seri = pd.Series([1, 20, 3, -12, 5], index=['a', 'b', 'c', 'd', 'e'])\n",
        "seri"
      ],
      "execution_count": null,
      "outputs": []
    },
    {
      "cell_type": "code",
      "metadata": {
        "id": "vbtm0QW5M3co"
      },
      "source": [
        "data = {\n",
        "    'İsim': ['Özge', 'Ahmet', 'Şirin', 'Mehmet'],\n",
        "    'Tecrübe': [3, 0.5, 2.5, 1],\n",
        "    'Maaş': [9000, 2500, 6500, 5000]\n",
        "}\n",
        "\n",
        "df = pd.DataFrame(data, columns=[\"İsim\", \"Maaş\"])\n",
        "df"
      ],
      "execution_count": null,
      "outputs": []
    },
    {
      "cell_type": "code",
      "metadata": {
        "id": "4Co0Nl1_M3co"
      },
      "source": [
        "df.info()"
      ],
      "execution_count": null,
      "outputs": []
    },
    {
      "cell_type": "code",
      "metadata": {
        "id": "8dW2LibjM3co"
      },
      "source": [
        "# https://www.kaggle.com/c/titanic/data\n",
        "# pd.read_EXTENSION\n",
        "df = pd.read_csv('./src/titanic_dataset/train.csv')"
      ],
      "execution_count": null,
      "outputs": []
    },
    {
      "cell_type": "markdown",
      "metadata": {
        "id": "aisU27CjM3co"
      },
      "source": [
        "![Titanic veriseti açıklaması](https://github.com/kaanberke/python3_101/blob/master/ML_days/src/screenshots/dataset_explanation.png?raw=1)\n",
        "\n",
        "credit: https://www.kaggle.com/c/titanic/data"
      ]
    },
    {
      "cell_type": "code",
      "metadata": {
        "id": "46PWELswM3co"
      },
      "source": [
        "df.shape"
      ],
      "execution_count": null,
      "outputs": []
    },
    {
      "cell_type": "code",
      "metadata": {
        "id": "48ULaD7aM3co"
      },
      "source": [
        "# m, n = df.shape\n",
        "# m * n\n",
        "df.size"
      ],
      "execution_count": null,
      "outputs": []
    },
    {
      "cell_type": "code",
      "metadata": {
        "id": "WjeKSK4_M3co"
      },
      "source": [
        "df.ndim"
      ],
      "execution_count": null,
      "outputs": []
    },
    {
      "cell_type": "code",
      "metadata": {
        "id": "H3tGXCsRM3co"
      },
      "source": [
        "df.corr()"
      ],
      "execution_count": null,
      "outputs": []
    },
    {
      "cell_type": "code",
      "metadata": {
        "id": "5twrXTbVM3co"
      },
      "source": [
        "df.columns"
      ],
      "execution_count": null,
      "outputs": []
    },
    {
      "cell_type": "code",
      "metadata": {
        "id": "cUFGTczjM3co"
      },
      "source": [
        "df.head(5)"
      ],
      "execution_count": null,
      "outputs": []
    },
    {
      "cell_type": "code",
      "metadata": {
        "id": "OT_5T7P-M3co"
      },
      "source": [
        "df.tail()"
      ],
      "execution_count": null,
      "outputs": []
    },
    {
      "cell_type": "code",
      "metadata": {
        "id": "mz2HSvCEM3cp"
      },
      "source": [
        "df.dtypes"
      ],
      "execution_count": null,
      "outputs": []
    },
    {
      "cell_type": "code",
      "metadata": {
        "id": "vWEaMT_AM3cp"
      },
      "source": [
        "# Null(NaN) olmayan veri sayısı\n",
        "df.count()"
      ],
      "execution_count": null,
      "outputs": []
    },
    {
      "cell_type": "code",
      "metadata": {
        "id": "lJG8MRRlM3cp"
      },
      "source": [
        "df[\"Embarked\"]"
      ],
      "execution_count": null,
      "outputs": []
    },
    {
      "cell_type": "code",
      "metadata": {
        "id": "oKOYmzJvM3cp"
      },
      "source": [
        "df['Yeni Sütun'] = 'Yeni'\n",
        "df"
      ],
      "execution_count": null,
      "outputs": []
    },
    {
      "cell_type": "code",
      "metadata": {
        "id": "7tvlNUOvM3cp"
      },
      "source": [
        "df.iloc[0, 0]"
      ],
      "execution_count": null,
      "outputs": []
    },
    {
      "cell_type": "code",
      "metadata": {
        "id": "ju6sjYlgM3cp"
      },
      "source": [
        "df.loc[:, 'Age']"
      ],
      "execution_count": null,
      "outputs": []
    },
    {
      "cell_type": "code",
      "metadata": {
        "id": "9ZwHARi_M3cp"
      },
      "source": [
        "df.drop([0, 3, 2, 5])\n",
        "#df.head()"
      ],
      "execution_count": null,
      "outputs": []
    },
    {
      "cell_type": "code",
      "metadata": {
        "id": "LM0rIrW7M3cp"
      },
      "source": [
        "df.drop('Cabin', axis=1)"
      ],
      "execution_count": null,
      "outputs": []
    },
    {
      "cell_type": "code",
      "metadata": {
        "id": "CIsIebzWM3cp"
      },
      "source": [
        "df.Cabin[0] is None"
      ],
      "execution_count": null,
      "outputs": []
    },
    {
      "cell_type": "markdown",
      "metadata": {
        "id": "SHu7AJotM3cp"
      },
      "source": [
        "![pandas isna() vs isnull()](https://github.com/kaanberke/python3_101/blob/master/ML_days/src/screenshots/pandas_isna()_vs_isnull().png?raw=1)\n",
        "\n",
        "credit: https://datascience.stackexchange.com/a/37879"
      ]
    },
    {
      "cell_type": "code",
      "metadata": {
        "scrolled": true,
        "id": "n7mK02DQM3cp"
      },
      "source": [
        "help(df.dropna)"
      ],
      "execution_count": null,
      "outputs": []
    },
    {
      "cell_type": "code",
      "metadata": {
        "id": "4fPIek7WM3cq"
      },
      "source": [
        "df.Cabin.dropna()"
      ],
      "execution_count": null,
      "outputs": []
    },
    {
      "cell_type": "code",
      "metadata": {
        "id": "HttWDXXqM3cq"
      },
      "source": [
        "df.iloc[0:100:3, 3:6:2] = None\n",
        "df"
      ],
      "execution_count": null,
      "outputs": []
    },
    {
      "cell_type": "code",
      "metadata": {
        "id": "Wf2XkUpCM3cq"
      },
      "source": [
        "df.dropna(subset=[\"Cabin\", \"Fare\", \"Parch\"], axis=0, thresh=3)"
      ],
      "execution_count": null,
      "outputs": []
    },
    {
      "cell_type": "code",
      "metadata": {
        "id": "McE0Bdd3M3cq"
      },
      "source": [
        "df['Survived'].sum()"
      ],
      "execution_count": null,
      "outputs": []
    },
    {
      "cell_type": "code",
      "metadata": {
        "id": "GTauuupOM3cq"
      },
      "source": [
        "df['Age'].max()"
      ],
      "execution_count": null,
      "outputs": []
    },
    {
      "cell_type": "code",
      "metadata": {
        "id": "vSp9n5keM3cq"
      },
      "source": [
        "df['Age'].idxmax()"
      ],
      "execution_count": null,
      "outputs": []
    },
    {
      "cell_type": "code",
      "metadata": {
        "id": "A8lmg1ghM3cq"
      },
      "source": [
        "df['Age'].min()"
      ],
      "execution_count": null,
      "outputs": []
    },
    {
      "cell_type": "code",
      "metadata": {
        "id": "E-3l7qoYM3cq"
      },
      "source": [
        "df['Age'].idxmin()"
      ],
      "execution_count": null,
      "outputs": []
    },
    {
      "cell_type": "code",
      "metadata": {
        "id": "QTF1BOQ_M3cq"
      },
      "source": [
        "df.mean()"
      ],
      "execution_count": null,
      "outputs": []
    },
    {
      "cell_type": "code",
      "metadata": {
        "id": "VIfjbGvvM3cq"
      },
      "source": [
        "df.median()"
      ],
      "execution_count": null,
      "outputs": []
    },
    {
      "cell_type": "code",
      "metadata": {
        "id": "OzJ48H1OM3cq"
      },
      "source": [
        "a = pd.Series([10, 20, 30, 35, 40, 50, 60])\n",
        "a.describe()"
      ],
      "execution_count": null,
      "outputs": []
    },
    {
      "cell_type": "code",
      "metadata": {
        "id": "aivWbCsZM3cq"
      },
      "source": [
        "df.describe()"
      ],
      "execution_count": null,
      "outputs": []
    },
    {
      "cell_type": "code",
      "metadata": {
        "id": "yft9vP1KM3cq"
      },
      "source": [
        "df.Age.apply(lambda x: x if x >= 1 else 0)"
      ],
      "execution_count": null,
      "outputs": []
    },
    {
      "cell_type": "code",
      "metadata": {
        "id": "cIt3SBwCM3cq"
      },
      "source": [
        "df.Embarked.unique()\n",
        "df.Embarked.apply(lambda x: x.replace('Q', 'Z'))"
      ],
      "execution_count": null,
      "outputs": []
    },
    {
      "cell_type": "code",
      "metadata": {
        "id": "3Ux-jBT2M3cq"
      },
      "source": [
        "df.Age.sort_values()"
      ],
      "execution_count": null,
      "outputs": []
    },
    {
      "cell_type": "code",
      "metadata": {
        "id": "ysPuLw8bM3cq"
      },
      "source": [
        "df['Fare'] > 10"
      ],
      "execution_count": null,
      "outputs": []
    },
    {
      "cell_type": "code",
      "metadata": {
        "id": "hLAllKk1M3cq"
      },
      "source": [
        "a = df[df['Fare'] > 10]\n",
        "a.head()"
      ],
      "execution_count": null,
      "outputs": []
    },
    {
      "cell_type": "code",
      "metadata": {
        "id": "Pi-K0mS3M3cq"
      },
      "source": [
        "df.head()"
      ],
      "execution_count": null,
      "outputs": []
    },
    {
      "cell_type": "code",
      "metadata": {
        "id": "mpyAKGE7M3cq"
      },
      "source": [
        "grup = df.groupby('Embarked')\n",
        "grup.sum()"
      ],
      "execution_count": null,
      "outputs": []
    },
    {
      "cell_type": "code",
      "metadata": {
        "id": "qzgZV48JM3cr"
      },
      "source": [
        "\"\"\"\n",
        "for isim, içerik in grup:\n",
        "    print(\"=>\", isim)\n",
        "    print(içerik.Age)\n",
        "    print(\"-\"*40)\n",
        "\"\"\"\n",
        "grup.Age.agg(np.mean)\n",
        "# grup.mean().Age\n",
        "grup.agg([np.size, np.sum, np.mean])"
      ],
      "execution_count": null,
      "outputs": []
    },
    {
      "cell_type": "code",
      "metadata": {
        "id": "pHUINCZkM3cr"
      },
      "source": [
        "grup.get_group('S').shape"
      ],
      "execution_count": null,
      "outputs": []
    },
    {
      "cell_type": "code",
      "metadata": {
        "id": "dogYUPA5M3cr"
      },
      "source": [
        "grup.filter(lambda x: x['Fare'].mean() > 30)"
      ],
      "execution_count": null,
      "outputs": []
    },
    {
      "cell_type": "code",
      "metadata": {
        "id": "W45owkjRM3cr"
      },
      "source": [
        ""
      ],
      "execution_count": null,
      "outputs": []
    }
  ]
}