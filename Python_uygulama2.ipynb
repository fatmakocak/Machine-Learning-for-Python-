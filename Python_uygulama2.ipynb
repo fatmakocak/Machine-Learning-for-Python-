{
  "nbformat": 4,
  "nbformat_minor": 0,
  "metadata": {
    "kernelspec": {
      "display_name": "Python 3.8.1 64-bit ('3.8.1': pyenv)",
      "language": "python",
      "name": "python38164bit381pyenvf307e63da0224bf8a7246253ff8d7272"
    },
    "language_info": {
      "codemirror_mode": {
        "name": "ipython",
        "version": 3
      },
      "file_extension": ".py",
      "mimetype": "text/x-python",
      "name": "python",
      "nbconvert_exporter": "python",
      "pygments_lexer": "ipython3",
      "version": "3.8.1"
    },
    "colab": {
      "name": "Python_uygulama2.ipynb ",
      "provenance": [],
      "include_colab_link": true
    }
  },
  "cells": [
    {
      "cell_type": "markdown",
      "metadata": {
        "id": "view-in-github",
        "colab_type": "text"
      },
      "source": [
        "<a href=\"https://colab.research.google.com/github/fatmakocak/Machine-Learning-for-Python-/blob/main/Python_uygulama2.ipynb\" target=\"_parent\"><img src=\"https://colab.research.google.com/assets/colab-badge.svg\" alt=\"Open In Colab\"/></a>"
      ]
    },
    {
      "cell_type": "markdown",
      "metadata": {
        "id": "JZ3GK46EKzD6"
      },
      "source": [
        "### Tek satır for döngüsü (One-liner for)"
      ]
    },
    {
      "cell_type": "code",
      "metadata": {
        "id": "q_STuaqqKzD6",
        "outputId": "52f76c83-7b6d-4792-9a1c-6627d31d8e32"
      },
      "source": [
        "kelime = \"Python\"\n",
        "harf_listesi = []\n",
        "\n",
        "for harf in kelime:\n",
        "    harf_listesi.append(harf)\n",
        "    \n",
        "print(harf_listesi)"
      ],
      "execution_count": null,
      "outputs": [
        {
          "output_type": "stream",
          "text": [
            "['P', 'y', 't', 'h', 'o', 'n']\n"
          ],
          "name": "stdout"
        }
      ]
    },
    {
      "cell_type": "code",
      "metadata": {
        "id": "35EGQnksKzD8",
        "outputId": "9d849a08-ba17-4bbc-d09b-e3331a3ae432"
      },
      "source": [
        "harf_listesi = [harf for harf in \"Python\"]\n",
        "print(harf_listesi)"
      ],
      "execution_count": null,
      "outputs": [
        {
          "output_type": "stream",
          "text": [
            "['p', 'p', 'p', 'p', 'p', 'p']\n"
          ],
          "name": "stdout"
        }
      ]
    },
    {
      "cell_type": "markdown",
      "metadata": {
        "id": "j-SRNOnDKzD8"
      },
      "source": [
        "### Tek satır if (One-liner if)"
      ]
    },
    {
      "cell_type": "code",
      "metadata": {
        "id": "PeVAlP78KzD8"
      },
      "source": [
        "koşul = 3\n",
        "\n",
        "if koşul > 5:\n",
        "    kelime = \"Elma\"\n",
        "elif koşul > 7:\n",
        "    \n",
        "else:\n",
        "    kelime = \"Armut\""
      ],
      "execution_count": null,
      "outputs": []
    },
    {
      "cell_type": "code",
      "metadata": {
        "id": "XB3RXz1iKzD8"
      },
      "source": [
        "kelime = \"Elma\" if koşul else \"Armut\" if koşul > 5 else \"Çilek\""
      ],
      "execution_count": null,
      "outputs": []
    },
    {
      "cell_type": "markdown",
      "metadata": {
        "id": "0IPzSaq_KzD8"
      },
      "source": [
        "### Tek satır fonksiyon Lambda (One-liner function Lambda)"
      ]
    },
    {
      "cell_type": "code",
      "metadata": {
        "id": "O5ZaA1R8KzD8",
        "outputId": "a29b784c-7623-48b7-df0c-aebc67951368"
      },
      "source": [
        "kare_al = lambda x: x**2\n",
        "kare_al(5)"
      ],
      "execution_count": null,
      "outputs": [
        {
          "output_type": "execute_result",
          "data": {
            "text/plain": [
              "25"
            ]
          },
          "metadata": {
            "tags": []
          },
          "execution_count": 103
        }
      ]
    },
    {
      "cell_type": "markdown",
      "metadata": {
        "id": "4O6fK_rpKzD8"
      },
      "source": [
        "### map, reduce, filter, zip fonksiyonları"
      ]
    },
    {
      "cell_type": "code",
      "metadata": {
        "id": "4etctpdhKzD9",
        "outputId": "c6319b95-09b6-4f3b-e6c5-0c4e8d9d5632"
      },
      "source": [
        "sayılar = [1, 2, 3, 4, 5, 6, 7]\n",
        "sayıların_kareleri = []\n",
        "\n",
        "for sayı in sayılar:\n",
        "    sayıların_kareleri.append(kare_al(sayı))\n",
        "print(sayıların_kareleri)"
      ],
      "execution_count": null,
      "outputs": [
        {
          "output_type": "stream",
          "text": [
            "[1, 4, 9, 16, 25, 36, 49]\n"
          ],
          "name": "stdout"
        }
      ]
    },
    {
      "cell_type": "code",
      "metadata": {
        "id": "Ai2brqN-KzD9",
        "outputId": "39e3d96b-2471-4e33-dc94-a9eb6e3cd217"
      },
      "source": [
        "sayıların_kareleri =  map(kare_al, sayılar)\n",
        "print(sayıların_kareleri)\n",
        "for sayı in sayıların_kareleri:\n",
        "    print(sayı)\n"
      ],
      "execution_count": null,
      "outputs": [
        {
          "output_type": "stream",
          "text": [
            "<map object at 0x11bad4430>\n",
            "1\n",
            "4\n",
            "9\n",
            "16\n",
            "25\n",
            "36\n",
            "49\n"
          ],
          "name": "stdout"
        }
      ]
    },
    {
      "cell_type": "code",
      "metadata": {
        "id": "ug9ZXUNYKzD9",
        "outputId": "68a19ba8-e7c4-4b2a-a039-f2655fc38d58"
      },
      "source": [
        "from functools import reduce\n",
        "\n",
        "sayılar = [1, 6, 3, 7, 10, 0]\n",
        "print(reduce(lambda x,y: x if x > y else y, sayılar))"
      ],
      "execution_count": null,
      "outputs": [
        {
          "output_type": "stream",
          "text": [
            "10\n"
          ],
          "name": "stdout"
        }
      ]
    },
    {
      "cell_type": "code",
      "metadata": {
        "id": "NRYtE5T7KzD9",
        "outputId": "4382abf0-d3ce-419f-b2c0-8ddb3e458f06"
      },
      "source": [
        "def beşten_uzun(kelime):\n",
        "    if len(kelime) > 5:\n",
        "        return True\n",
        "    else:\n",
        "        return False\n",
        "isimler = ['Oğuz', 'Ahmet', 'Necati', 'Ali', 'Mehmet', 'Ziya']\n",
        "uzun_isimler = filter(beşten_uzun, isimler)\n",
        "print(uzun_isimler)\n",
        "for isim in uzun_isimler:\n",
        "    print(isim)"
      ],
      "execution_count": null,
      "outputs": [
        {
          "output_type": "stream",
          "text": [
            "<filter object at 0x11bad6220>\n",
            "Necati\n",
            "Mehmet\n"
          ],
          "name": "stdout"
        }
      ]
    },
    {
      "cell_type": "code",
      "metadata": {
        "id": "FCCRl_KZKzD-",
        "outputId": "4dd8f18a-e6b1-4f6b-a741-b183d4bf39e1"
      },
      "source": [
        "sayılar = [0, 1, 2, 3, 4, 5]\n",
        "isimler = ['Oğuz', 'Ahmet', 'Necati', 'Ali', 'Mehmet', 'Ziya']\n",
        "\n",
        "\n",
        "for i, j in zip(sayılar, isimler):\n",
        "    print(i)\n"
      ],
      "execution_count": null,
      "outputs": [
        {
          "output_type": "stream",
          "text": [
            "(0, 'Oğuz')\n",
            "(1, 'Ahmet')\n",
            "(2, 'Necati')\n",
            "(3, 'Ali')\n",
            "(4, 'Mehmet')\n",
            "(5, 'Ziya')\n"
          ],
          "name": "stdout"
        }
      ]
    },
    {
      "cell_type": "markdown",
      "metadata": {
        "id": "l4oIAf8dKzD-"
      },
      "source": [
        "### Assert anahtar kelimesi ( Assert keyword )"
      ]
    },
    {
      "cell_type": "code",
      "metadata": {
        "id": "sJ0XnYN_KzD-",
        "outputId": "c00517c1-9740-41e1-c5c5-49a825b9c37f"
      },
      "source": [
        "yaş = input(\"Yaşınız:\")\n",
        "assert int(yaş) >= 0, \"Yaşınız negatif olamaz\""
      ],
      "execution_count": null,
      "outputs": [
        {
          "output_type": "stream",
          "text": [
            "Yaşınız: -2\n"
          ],
          "name": "stdin"
        },
        {
          "output_type": "error",
          "ename": "AssertionError",
          "evalue": "Yaşınız negatif olamaz",
          "traceback": [
            "\u001b[0;31m---------------------------------------------------------------------------\u001b[0m",
            "\u001b[0;31mAssertionError\u001b[0m                            Traceback (most recent call last)",
            "\u001b[0;32m<ipython-input-116-70f9b1578f3f>\u001b[0m in \u001b[0;36m<module>\u001b[0;34m\u001b[0m\n\u001b[1;32m      1\u001b[0m \u001b[0myaş\u001b[0m \u001b[0;34m=\u001b[0m \u001b[0minput\u001b[0m\u001b[0;34m(\u001b[0m\u001b[0;34m\"Yaşınız:\"\u001b[0m\u001b[0;34m)\u001b[0m\u001b[0;34m\u001b[0m\u001b[0;34m\u001b[0m\u001b[0m\n\u001b[0;32m----> 2\u001b[0;31m \u001b[0;32massert\u001b[0m \u001b[0mint\u001b[0m\u001b[0;34m(\u001b[0m\u001b[0myaş\u001b[0m\u001b[0;34m)\u001b[0m \u001b[0;34m>=\u001b[0m \u001b[0;36m0\u001b[0m\u001b[0;34m,\u001b[0m \u001b[0;34m\"Yaşınız negatif olamaz\"\u001b[0m\u001b[0;34m\u001b[0m\u001b[0;34m\u001b[0m\u001b[0m\n\u001b[0m",
            "\u001b[0;31mAssertionError\u001b[0m: Yaşınız negatif olamaz"
          ]
        }
      ]
    },
    {
      "cell_type": "markdown",
      "metadata": {
        "id": "t1MFvpOAKzD-"
      },
      "source": [
        "### Üreteçler (Generators)"
      ]
    },
    {
      "cell_type": "code",
      "metadata": {
        "id": "ROkmhSGxKzD-",
        "outputId": "f219b878-283f-4d4a-f05a-f7ee83e2f3ca"
      },
      "source": [
        "def generator():\n",
        "    i = 1\n",
        "    print('Öncelikle bu basıldı')\n",
        "    yield i\n",
        "\n",
        "    i += 1\n",
        "    print('Sonra bu')\n",
        "    yield i\n",
        "\n",
        "for eleman in generator():\n",
        "    print(\"For döngüsü içinde:\", eleman)\n",
        "#print(next())"
      ],
      "execution_count": null,
      "outputs": [
        {
          "output_type": "stream",
          "text": [
            "Öncelikle bu basıldı\n",
            "For döngüsü içinde: 1\n",
            "Sonra bu\n",
            "For döngüsü içinde: 2\n"
          ],
          "name": "stdout"
        }
      ]
    },
    {
      "cell_type": "code",
      "metadata": {
        "id": "gwctBRuPKzD-",
        "outputId": "36dda2c7-507e-4e49-b3d9-8ef91643dc5e"
      },
      "source": [
        "a = 5\n",
        "\n",
        "def outer():\n",
        "    a = 3\n",
        "    def inner():\n",
        "        nonlocal a\n",
        "        a += 5\n",
        "        print(\"inner fonksiyon:\", a)\n",
        "    print(\"outer fonksiyon:\", a)\n",
        "    return inner()\n",
        "\n",
        "outer()\n",
        "print(\"global:\", a)"
      ],
      "execution_count": null,
      "outputs": [
        {
          "output_type": "stream",
          "text": [
            "outer fonksiyon: 3\n",
            "inner fonksiyon: 8\n",
            "global: 5\n"
          ],
          "name": "stdout"
        }
      ]
    },
    {
      "cell_type": "markdown",
      "metadata": {
        "id": "9qeRzQ_ZKzD-"
      },
      "source": [
        "### Decorators"
      ]
    },
    {
      "cell_type": "code",
      "metadata": {
        "id": "m5YolkBVKzD-",
        "outputId": "a1b29da6-4fe5-41a4-ab9a-fc1c9e269af5"
      },
      "source": [
        "from datetime import datetime\n",
        "\n",
        "def show_time(func):\n",
        "    def wrapper(name):\n",
        "        print(\"Time:\", datetime.now().time())\n",
        "        func(name)\n",
        "    return wrapper\n",
        "\n",
        "@show_time\n",
        "def say_hi(name=\"John\"):\n",
        "    print(\"Hi {}!\".format(name))\n",
        "\n",
        "say_hi(\"Ahmet\")"
      ],
      "execution_count": null,
      "outputs": [
        {
          "output_type": "error",
          "ename": "TypeError",
          "evalue": "wrapper() takes 0 positional arguments but 1 was given",
          "traceback": [
            "\u001b[0;31m---------------------------------------------------------------------------\u001b[0m",
            "\u001b[0;31mTypeError\u001b[0m                                 Traceback (most recent call last)",
            "\u001b[0;32m<ipython-input-123-d76c4e87f0b5>\u001b[0m in \u001b[0;36m<module>\u001b[0;34m\u001b[0m\n\u001b[1;32m     11\u001b[0m     \u001b[0mprint\u001b[0m\u001b[0;34m(\u001b[0m\u001b[0;34m\"Hi {}!\"\u001b[0m\u001b[0;34m.\u001b[0m\u001b[0mformat\u001b[0m\u001b[0;34m(\u001b[0m\u001b[0mname\u001b[0m\u001b[0;34m)\u001b[0m\u001b[0;34m)\u001b[0m\u001b[0;34m\u001b[0m\u001b[0;34m\u001b[0m\u001b[0m\n\u001b[1;32m     12\u001b[0m \u001b[0;34m\u001b[0m\u001b[0m\n\u001b[0;32m---> 13\u001b[0;31m \u001b[0msay_hi\u001b[0m\u001b[0;34m(\u001b[0m\u001b[0;34m\"Ahmet\"\u001b[0m\u001b[0;34m)\u001b[0m\u001b[0;34m\u001b[0m\u001b[0;34m\u001b[0m\u001b[0m\n\u001b[0m",
            "\u001b[0;31mTypeError\u001b[0m: wrapper() takes 0 positional arguments but 1 was given"
          ]
        }
      ]
    },
    {
      "cell_type": "markdown",
      "metadata": {
        "id": "jmoMqeaiKzD-"
      },
      "source": [
        "# Numpy"
      ]
    },
    {
      "cell_type": "markdown",
      "metadata": {
        "id": "9ITvNhT8KzD-"
      },
      "source": [
        "![Scalar Vector Matrix Tensor](https://res.cloudinary.com/practicaldev/image/fetch/s--oTgfo1EL--/c_limit%2Cf_auto%2Cfl_progressive%2Cq_auto%2Cw_880/https://raw.githubusercontent.com/adhiraiyan/DeepLearningWithTF2.0/master/notebooks/figures/fig0201a.png)"
      ]
    },
    {
      "cell_type": "code",
      "metadata": {
        "id": "QGdXkvYzKzD_"
      },
      "source": [
        "import numpy as np"
      ],
      "execution_count": null,
      "outputs": []
    },
    {
      "cell_type": "code",
      "metadata": {
        "id": "bQnpHRmuKzD_",
        "outputId": "ded96d2b-8b11-4144-b398-1d644cb5410b"
      },
      "source": [
        "a = np.array([10, 20, 30, 40, 50, 60])\n",
        "print(type(a))\n",
        "print(a.shape)"
      ],
      "execution_count": null,
      "outputs": [
        {
          "output_type": "stream",
          "text": [
            "<class 'numpy.ndarray'>\n",
            "(6,)\n"
          ],
          "name": "stdout"
        }
      ]
    },
    {
      "cell_type": "code",
      "metadata": {
        "id": "sEWYcw1DKzD_",
        "outputId": "18c33093-f2c9-4967-9133-ed8d1af4e7bb"
      },
      "source": [
        "type(a[3])"
      ],
      "execution_count": null,
      "outputs": [
        {
          "output_type": "execute_result",
          "data": {
            "text/plain": [
              "numpy.int64"
            ]
          },
          "metadata": {
            "tags": []
          },
          "execution_count": 132
        }
      ]
    },
    {
      "cell_type": "code",
      "metadata": {
        "id": "BWozOjnSKzD_",
        "outputId": "29da8d5d-a986-4dea-aa87-08b97db682e0"
      },
      "source": [
        "a[2] *= 2\n",
        "print(a[2])"
      ],
      "execution_count": null,
      "outputs": [
        {
          "output_type": "stream",
          "text": [
            "60\n"
          ],
          "name": "stdout"
        }
      ]
    },
    {
      "cell_type": "code",
      "metadata": {
        "id": "kPnTNm-HKzD_",
        "outputId": "76bb8831-8587-478a-b89e-02c33c131c27"
      },
      "source": [
        "a"
      ],
      "execution_count": null,
      "outputs": [
        {
          "output_type": "execute_result",
          "data": {
            "text/plain": [
              "array([10, 20, 60, 40, 50, 60])"
            ]
          },
          "metadata": {
            "tags": []
          },
          "execution_count": 134
        }
      ]
    },
    {
      "cell_type": "code",
      "metadata": {
        "id": "XrFLVnMgKzD_",
        "outputId": "51f73614-6ae3-495c-c150-ffb15fa70290"
      },
      "source": [
        "b = np.array([\n",
        "    [10, 20, 30],\n",
        "    [40, 50, 60]\n",
        "])\n",
        "print(b)\n",
        "print(b.shape)\n",
        "print(b.dtype)"
      ],
      "execution_count": null,
      "outputs": [
        {
          "output_type": "stream",
          "text": [
            "[[10 20 30]\n",
            " [40 50 60]]\n",
            "(2, 3)\n",
            "int64\n"
          ],
          "name": "stdout"
        }
      ]
    },
    {
      "cell_type": "code",
      "metadata": {
        "id": "NyN5tlu9KzD_",
        "outputId": "0589341f-c77a-4bd2-819b-1e72fecfec48"
      },
      "source": [
        "a = np.array([10, 20, 30, 40, 50, 60])\n",
        "np.sin(a)"
      ],
      "execution_count": null,
      "outputs": [
        {
          "output_type": "execute_result",
          "data": {
            "text/plain": [
              "array([-0.54402111,  0.91294525, -0.98803162,  0.74511316, -0.26237485,\n",
              "       -0.30481062])"
            ]
          },
          "metadata": {
            "tags": []
          },
          "execution_count": 136
        }
      ]
    },
    {
      "cell_type": "code",
      "metadata": {
        "id": "rzDfgn7fKzD_",
        "outputId": "80260bd4-366c-430d-fd45-1ba0802678ab"
      },
      "source": [
        "np.cos(a)"
      ],
      "execution_count": null,
      "outputs": [
        {
          "output_type": "execute_result",
          "data": {
            "text/plain": [
              "array([-0.83907153,  0.40808206,  0.15425145, -0.66693806,  0.96496603,\n",
              "       -0.95241298])"
            ]
          },
          "metadata": {
            "tags": []
          },
          "execution_count": 137
        }
      ]
    },
    {
      "cell_type": "code",
      "metadata": {
        "id": "sFplgIiQKzD_",
        "outputId": "08e1222f-7aa6-46d1-97e4-1d421af2aef0"
      },
      "source": [
        "np.log(a)"
      ],
      "execution_count": null,
      "outputs": [
        {
          "output_type": "execute_result",
          "data": {
            "text/plain": [
              "array([2.30258509, 2.99573227, 3.40119738, 3.68887945, 3.91202301,\n",
              "       4.09434456])"
            ]
          },
          "metadata": {
            "tags": []
          },
          "execution_count": 138
        }
      ]
    },
    {
      "cell_type": "code",
      "metadata": {
        "id": "PD2qoDRfKzD_",
        "outputId": "b92121bd-e8b5-4d50-d9d4-3488e74ec5fd"
      },
      "source": [
        "np.exp(a)"
      ],
      "execution_count": null,
      "outputs": [
        {
          "output_type": "execute_result",
          "data": {
            "text/plain": [
              "array([2.20264658e+04, 4.85165195e+08, 1.06864746e+13, 2.35385267e+17,\n",
              "       5.18470553e+21, 1.14200739e+26])"
            ]
          },
          "metadata": {
            "tags": []
          },
          "execution_count": 139
        }
      ]
    },
    {
      "cell_type": "code",
      "metadata": {
        "id": "LhRNVmiSKzEA",
        "outputId": "b04e92c6-2fb7-4031-d839-9cf0b0c9acb5"
      },
      "source": [
        "np.max(a)"
      ],
      "execution_count": null,
      "outputs": [
        {
          "output_type": "execute_result",
          "data": {
            "text/plain": [
              "60"
            ]
          },
          "metadata": {
            "tags": []
          },
          "execution_count": 140
        }
      ]
    },
    {
      "cell_type": "code",
      "metadata": {
        "id": "rks9yJ0NKzEA",
        "outputId": "53356da1-c83f-4d11-f576-ce2af0d5e20e"
      },
      "source": [
        "np.min(a)"
      ],
      "execution_count": null,
      "outputs": [
        {
          "output_type": "execute_result",
          "data": {
            "text/plain": [
              "10"
            ]
          },
          "metadata": {
            "tags": []
          },
          "execution_count": 141
        }
      ]
    },
    {
      "cell_type": "code",
      "metadata": {
        "id": "F6grIHDXKzEA",
        "outputId": "148b4681-da2b-4557-cec6-ca37f3da9d61"
      },
      "source": [
        "np.argmax(a)"
      ],
      "execution_count": null,
      "outputs": [
        {
          "output_type": "execute_result",
          "data": {
            "text/plain": [
              "5"
            ]
          },
          "metadata": {
            "tags": []
          },
          "execution_count": 142
        }
      ]
    },
    {
      "cell_type": "code",
      "metadata": {
        "id": "dU-EC2GgKzEA",
        "outputId": "b2af651b-6300-429a-d2d7-9af76511def4"
      },
      "source": [
        "np.mean(a)"
      ],
      "execution_count": null,
      "outputs": [
        {
          "output_type": "execute_result",
          "data": {
            "text/plain": [
              "35.0"
            ]
          },
          "metadata": {
            "tags": []
          },
          "execution_count": 143
        }
      ]
    },
    {
      "cell_type": "code",
      "metadata": {
        "id": "tmqT0pwQKzEB",
        "outputId": "470d546d-622e-4657-fcdb-d913e61636e2"
      },
      "source": [
        "np.median(a)"
      ],
      "execution_count": null,
      "outputs": [
        {
          "output_type": "execute_result",
          "data": {
            "text/plain": [
              "35.0"
            ]
          },
          "metadata": {
            "tags": []
          },
          "execution_count": 144
        }
      ]
    },
    {
      "cell_type": "code",
      "metadata": {
        "id": "Y2rPVh1gKzEB",
        "outputId": "d208dcf5-0a91-41aa-ff32-65ba22af8c67"
      },
      "source": [
        "np.std(a)"
      ],
      "execution_count": null,
      "outputs": [
        {
          "output_type": "execute_result",
          "data": {
            "text/plain": [
              "17.07825127659933"
            ]
          },
          "metadata": {
            "tags": []
          },
          "execution_count": 145
        }
      ]
    },
    {
      "cell_type": "code",
      "metadata": {
        "id": "Gns3-xv7KzEC",
        "outputId": "05d67db0-65f1-411f-924f-dab9d0ebdabc"
      },
      "source": [
        "b"
      ],
      "execution_count": null,
      "outputs": [
        {
          "output_type": "execute_result",
          "data": {
            "text/plain": [
              "array([[10, 20, 30],\n",
              "       [40, 50, 60]])"
            ]
          },
          "metadata": {
            "tags": []
          },
          "execution_count": 146
        }
      ]
    },
    {
      "cell_type": "code",
      "metadata": {
        "id": "7qW39TPdKzEC",
        "outputId": "39eb7577-2b9f-48e5-8a50-09161693bbe2"
      },
      "source": [
        "# axis=1 => Row\n",
        "# axis=0 => Column\n",
        "np.sum(b, axis=0)"
      ],
      "execution_count": null,
      "outputs": [
        {
          "output_type": "execute_result",
          "data": {
            "text/plain": [
              "array([50, 70, 90])"
            ]
          },
          "metadata": {
            "tags": []
          },
          "execution_count": 149
        }
      ]
    },
    {
      "cell_type": "code",
      "metadata": {
        "id": "a7GltxUeKzEC",
        "outputId": "1e782347-9c90-4aa1-9f13-8f8b75e47c24"
      },
      "source": [
        "zeros = np.zeros((3, 3))\n",
        "print(zeros)"
      ],
      "execution_count": null,
      "outputs": [
        {
          "output_type": "stream",
          "text": [
            "[[0. 0. 0.]\n",
            " [0. 0. 0.]\n",
            " [0. 0. 0.]]\n"
          ],
          "name": "stdout"
        }
      ]
    },
    {
      "cell_type": "code",
      "metadata": {
        "id": "ES1Q70kvKzEC",
        "outputId": "639d2c0e-b847-4e89-81e7-17e63d89374f"
      },
      "source": [
        "ones = np.ones((3, 3))\n",
        "print(ones)"
      ],
      "execution_count": null,
      "outputs": [
        {
          "output_type": "stream",
          "text": [
            "[[1. 1. 1.]\n",
            " [1. 1. 1.]\n",
            " [1. 1. 1.]]\n"
          ],
          "name": "stdout"
        }
      ]
    },
    {
      "cell_type": "code",
      "metadata": {
        "id": "5Dk0bIp5KzEC",
        "outputId": "91bb882c-c21e-440d-cabf-253923f0538b"
      },
      "source": [
        "full = np.full((3, 3), 5)\n",
        "print(full)"
      ],
      "execution_count": null,
      "outputs": [
        {
          "output_type": "stream",
          "text": [
            "[[5 5 5]\n",
            " [5 5 5]\n",
            " [5 5 5]]\n"
          ],
          "name": "stdout"
        }
      ]
    },
    {
      "cell_type": "code",
      "metadata": {
        "id": "scRN6rGmKzEC",
        "outputId": "7f364009-c885-485d-abf3-51a21abda0f9"
      },
      "source": [
        "eye = np.eye(5)\n",
        "print(eye)"
      ],
      "execution_count": null,
      "outputs": [
        {
          "output_type": "stream",
          "text": [
            "[[1. 0. 0. 0. 0.]\n",
            " [0. 1. 0. 0. 0.]\n",
            " [0. 0. 1. 0. 0.]\n",
            " [0. 0. 0. 1. 0.]\n",
            " [0. 0. 0. 0. 1.]]\n"
          ],
          "name": "stdout"
        }
      ]
    },
    {
      "cell_type": "code",
      "metadata": {
        "id": "4Qv0Xg4BKzEC",
        "outputId": "0655eca2-707d-4ac9-b831-80beca89a7ae"
      },
      "source": [
        "arange = np.arange(7)\n",
        "print(arange)\n",
        "\n",
        "arange = np.arange(0, 10, 2)\n",
        "print(arange)"
      ],
      "execution_count": null,
      "outputs": [
        {
          "output_type": "stream",
          "text": [
            "[0 1 2 3 4 5 6]\n",
            "[0 2 4 6 8]\n"
          ],
          "name": "stdout"
        }
      ]
    },
    {
      "cell_type": "code",
      "metadata": {
        "id": "2f9xxs7cKzEC",
        "outputId": "a3853688-3eda-4d07-9b6d-ecfdb984a42f"
      },
      "source": [
        "# Create randint\n",
        "random = np.random.random((3, 3))\n",
        "print(random)"
      ],
      "execution_count": null,
      "outputs": [
        {
          "output_type": "stream",
          "text": [
            "int64\n"
          ],
          "name": "stdout"
        }
      ]
    },
    {
      "cell_type": "code",
      "metadata": {
        "id": "GWsrZ6xBKzEC",
        "outputId": "553eb344-11c8-4246-cb30-b3e1190343e4"
      },
      "source": [
        "arr = np.random.randint(20, size=(5, 5))\n",
        "print(arr)"
      ],
      "execution_count": null,
      "outputs": [
        {
          "output_type": "stream",
          "text": [
            "[[12 11 16  5 18]\n",
            " [19 15 18 16  8]\n",
            " [10 13  1  7  5]\n",
            " [ 4 13  2  5 16]\n",
            " [19  9  1  8 10]]\n"
          ],
          "name": "stdout"
        }
      ]
    },
    {
      "cell_type": "code",
      "metadata": {
        "id": "ICPX5nIDKzED",
        "outputId": "3167d2e7-c460-42e6-bf4d-03255dac429c"
      },
      "source": [
        "zeros*6"
      ],
      "execution_count": null,
      "outputs": [
        {
          "output_type": "execute_result",
          "data": {
            "text/plain": [
              "array([[0., 0., 0.],\n",
              "       [0., 0., 0.],\n",
              "       [0., 0., 0.]])"
            ]
          },
          "metadata": {
            "tags": []
          },
          "execution_count": 173
        }
      ]
    },
    {
      "cell_type": "code",
      "metadata": {
        "id": "YkFp4vJzKzED",
        "outputId": "906c4220-b121-4c63-9d59-420f2af81d3a"
      },
      "source": [
        "arr"
      ],
      "execution_count": null,
      "outputs": [
        {
          "output_type": "execute_result",
          "data": {
            "text/plain": [
              "array([[12, 11, 16,  5, 18],\n",
              "       [19, 15, 18, 16,  8],\n",
              "       [10, 13,  1,  7,  5],\n",
              "       [ 4, 13,  2,  5, 16],\n",
              "       [19,  9,  1,  8, 10]])"
            ]
          },
          "metadata": {
            "tags": []
          },
          "execution_count": 181
        }
      ]
    },
    {
      "cell_type": "code",
      "metadata": {
        "id": "Py0lmf3dKzED",
        "outputId": "1518846e-2ce6-4464-8294-59e651f0da84"
      },
      "source": [
        "arr[0:3, ::]\n",
        "#arr[satır, sütun]"
      ],
      "execution_count": null,
      "outputs": [
        {
          "output_type": "execute_result",
          "data": {
            "text/plain": [
              "array([[12, 11, 16,  5, 18],\n",
              "       [19, 15, 18, 16,  8],\n",
              "       [10, 13,  1,  7,  5]])"
            ]
          },
          "metadata": {
            "tags": []
          },
          "execution_count": 185
        }
      ]
    },
    {
      "cell_type": "code",
      "metadata": {
        "id": "NMNPJmsTKzED",
        "outputId": "366aa733-487f-4fb4-d2b6-23aebcad0af2"
      },
      "source": [
        "arr[arr > 10]"
      ],
      "execution_count": null,
      "outputs": [
        {
          "output_type": "execute_result",
          "data": {
            "text/plain": [
              "array([12, 11, 16, 18, 19, 15, 18, 16, 13, 13, 16, 19])"
            ]
          },
          "metadata": {
            "tags": []
          },
          "execution_count": 192
        }
      ]
    },
    {
      "cell_type": "code",
      "metadata": {
        "id": "PqjMf0kYKzED",
        "outputId": "e4216ee4-04c8-4f4d-df13-a40fc01a69e8"
      },
      "source": [
        "np.where(arr > 10)"
      ],
      "execution_count": null,
      "outputs": [
        {
          "output_type": "execute_result",
          "data": {
            "text/plain": [
              "(array([0, 0, 0, 0, 1, 1, 1, 1, 2, 3, 3, 4]),\n",
              " array([0, 1, 2, 4, 0, 1, 2, 3, 1, 1, 4, 0]))"
            ]
          },
          "metadata": {
            "tags": []
          },
          "execution_count": 194
        }
      ]
    },
    {
      "cell_type": "code",
      "metadata": {
        "id": "nrhSFsXDKzED",
        "outputId": "2eb4477b-bd2d-4cab-de89-df5180913b24"
      },
      "source": [
        "np.array([\n",
        "    [1, 2, 3, 4],\n",
        "    [5, 6, 7, 8],\n",
        "    [9, 10, 11, 12]\n",
        "]).reshape(3, -1).shape"
      ],
      "execution_count": null,
      "outputs": [
        {
          "output_type": "execute_result",
          "data": {
            "text/plain": [
              "(3, 4)"
            ]
          },
          "metadata": {
            "tags": []
          },
          "execution_count": 204
        }
      ]
    },
    {
      "cell_type": "code",
      "metadata": {
        "id": "-TelUAeMKzED",
        "outputId": "cf829ee9-e630-4238-b1c1-ea95339053ac"
      },
      "source": [
        "c = np.random.randint(10, size=(3, 3))\n",
        "print(c)\n",
        "c_inv = np.linalg.inv(c)\n",
        "print(c_inv)"
      ],
      "execution_count": null,
      "outputs": [
        {
          "output_type": "stream",
          "text": [
            "[[1 8 2]\n",
            " [4 7 8]\n",
            " [5 9 0]]\n",
            "[[-0.288  0.072  0.2  ]\n",
            " [ 0.16  -0.04   0.   ]\n",
            " [ 0.004  0.124 -0.1  ]]\n"
          ],
          "name": "stdout"
        }
      ]
    },
    {
      "cell_type": "markdown",
      "metadata": {
        "id": "06UwA-GlKzED"
      },
      "source": [
        "## İç Çarpım (Dot product)\n",
        "![Dot product](https://algebra1course.files.wordpress.com/2013/02/slide10.jpg)\n",
        "\n",
        "credit: https://algebra1course.files.wordpress.com/"
      ]
    },
    {
      "cell_type": "code",
      "metadata": {
        "id": "MlL4nq1yKzED",
        "outputId": "f731240f-7068-4da0-e2b2-8f3ecc4547b4"
      },
      "source": [
        "a = np.array([\n",
        "    [1, 2, 3],\n",
        "    [4, 5, 6]\n",
        "])\n",
        "print(a.shape)"
      ],
      "execution_count": null,
      "outputs": [
        {
          "output_type": "stream",
          "text": [
            "(2, 3)\n"
          ],
          "name": "stdout"
        }
      ]
    },
    {
      "cell_type": "code",
      "metadata": {
        "id": "cKi_ZP7WKzEE",
        "outputId": "972365b1-3c5b-4659-fcc8-74155d40ffe5"
      },
      "source": [
        "b = np.array([\n",
        "    [7, 8, 9],\n",
        "    [10, 11, 12]\n",
        "])\n",
        "print(a.shape)"
      ],
      "execution_count": null,
      "outputs": [
        {
          "output_type": "stream",
          "text": [
            "(2, 3)\n"
          ],
          "name": "stdout"
        }
      ]
    },
    {
      "cell_type": "code",
      "metadata": {
        "id": "6iUj_WvLKzEE",
        "outputId": "66741923-a6ec-475b-80b1-0036508b124a"
      },
      "source": [
        "axb = np.dot(a, b)"
      ],
      "execution_count": null,
      "outputs": [
        {
          "output_type": "error",
          "ename": "ValueError",
          "evalue": "shapes (2,3) and (2,3) not aligned: 3 (dim 1) != 2 (dim 0)",
          "traceback": [
            "\u001b[0;31m---------------------------------------------------------------------------\u001b[0m",
            "\u001b[0;31mValueError\u001b[0m                                Traceback (most recent call last)",
            "\u001b[0;32m<ipython-input-209-4eecf7a22330>\u001b[0m in \u001b[0;36m<module>\u001b[0;34m\u001b[0m\n\u001b[0;32m----> 1\u001b[0;31m \u001b[0maxb\u001b[0m \u001b[0;34m=\u001b[0m \u001b[0mnp\u001b[0m\u001b[0;34m.\u001b[0m\u001b[0mdot\u001b[0m\u001b[0;34m(\u001b[0m\u001b[0ma\u001b[0m\u001b[0;34m,\u001b[0m \u001b[0mb\u001b[0m\u001b[0;34m)\u001b[0m\u001b[0;34m\u001b[0m\u001b[0;34m\u001b[0m\u001b[0m\n\u001b[0m",
            "\u001b[0;32m<__array_function__ internals>\u001b[0m in \u001b[0;36mdot\u001b[0;34m(*args, **kwargs)\u001b[0m\n",
            "\u001b[0;31mValueError\u001b[0m: shapes (2,3) and (2,3) not aligned: 3 (dim 1) != 2 (dim 0)"
          ]
        }
      ]
    },
    {
      "cell_type": "code",
      "metadata": {
        "id": "wiiXjTPOKzEE",
        "outputId": "9af65b6c-d256-45a8-f2af-898cd4978a00"
      },
      "source": [
        "# Transpose\n",
        "(b.T).shape"
      ],
      "execution_count": null,
      "outputs": [
        {
          "output_type": "execute_result",
          "data": {
            "text/plain": [
              "(3, 2)"
            ]
          },
          "metadata": {
            "tags": []
          },
          "execution_count": 213
        }
      ]
    },
    {
      "cell_type": "code",
      "metadata": {
        "id": "7fxIRWQAKzEE",
        "outputId": "2a6dafb4-ac51-4b87-a272-6bd40e6f3f0e"
      },
      "source": [
        "axb = np.dot(a, b.T)\n",
        "print(axb)\n",
        "print(axb.shape)"
      ],
      "execution_count": null,
      "outputs": [
        {
          "output_type": "stream",
          "text": [
            "[[ 50  68]\n",
            " [122 167]]\n",
            "(2, 2)\n"
          ],
          "name": "stdout"
        }
      ]
    },
    {
      "cell_type": "code",
      "metadata": {
        "id": "1JUOXbASKzEE"
      },
      "source": [
        ""
      ],
      "execution_count": null,
      "outputs": []
    }
  ]
}