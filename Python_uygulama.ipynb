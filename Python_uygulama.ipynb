{
  "nbformat": 4,
  "nbformat_minor": 0,
  "metadata": {
    "colab": {
      "name": "Python_uygulama.ipynb ",
      "provenance": [],
      "include_colab_link": true
    },
    "kernelspec": {
      "display_name": "Python 3.8.1 64-bit ('3.8.1': pyenv)",
      "language": "python",
      "name": "python38164bit381pyenvf307e63da0224bf8a7246253ff8d7272"
    },
    "language_info": {
      "codemirror_mode": {
        "name": "ipython",
        "version": 3
      },
      "file_extension": ".py",
      "mimetype": "text/x-python",
      "name": "python",
      "nbconvert_exporter": "python",
      "pygments_lexer": "ipython3",
      "version": "3.8.1"
    }
  },
  "cells": [
    {
      "cell_type": "markdown",
      "metadata": {
        "id": "view-in-github",
        "colab_type": "text"
      },
      "source": [
        "<a href=\"https://colab.research.google.com/github/fatmakocak/Machine-Learning-for-Python-/blob/main/Python_uygulama.ipynb\" target=\"_parent\"><img src=\"https://colab.research.google.com/assets/colab-badge.svg\" alt=\"Open In Colab\"/></a>"
      ]
    },
    {
      "cell_type": "markdown",
      "metadata": {
        "id": "xBq8uEszJkqw"
      },
      "source": [
        "# Python 101"
      ]
    },
    {
      "cell_type": "markdown",
      "metadata": {
        "id": "HMUDlnzZJkqx"
      },
      "source": [
        "![image](https://media.geeksforgeeks.org/wp-content/uploads/20191023173512/Python-data-structure.jpg)\n",
        "\n",
        "credit: https://www.geeksforgeeks.org/"
      ]
    },
    {
      "cell_type": "markdown",
      "metadata": {
        "id": "_mCyP1RgGvLt"
      },
      "source": [
        "![mutable/immutable objects](https://miro.medium.com/max/1316/1*uFlTNY4W3czywyU18zxl8w.png)\n",
        "\n",
        "credit: https://medium.com/@meghamohan/mutable-and-immutable-side-of-python-c2145cf72747"
      ]
    },
    {
      "cell_type": "markdown",
      "metadata": {
        "id": "WF0c72S0Jkqy"
      },
      "source": [
        "___\n",
        "## Karakter Dizileri ( Strings )"
      ]
    },
    {
      "cell_type": "code",
      "metadata": {
        "colab": {
          "base_uri": "https://localhost:8080/",
          "height": 34
        },
        "id": "WK9Tyo8qJkqz",
        "outputId": "ae2e270b-aec3-4557-f5eb-21ef680e7718"
      },
      "source": [
        "'c'"
      ],
      "execution_count": null,
      "outputs": [
        {
          "output_type": "execute_result",
          "data": {
            "text/plain": [
              "'c'"
            ]
          },
          "metadata": {
            "tags": []
          },
          "execution_count": 1
        }
      ]
    },
    {
      "cell_type": "code",
      "metadata": {
        "id": "2u69GOy6Jkq5"
      },
      "source": [
        "' '\n",
        "\n",
        "\" \"\n",
        "\n",
        "\"\"\" \"\"\""
      ],
      "execution_count": null,
      "outputs": []
    },
    {
      "cell_type": "code",
      "metadata": {
        "id": "bB2TZmfXJkq7"
      },
      "source": [
        "\"Hello World\""
      ],
      "execution_count": null,
      "outputs": []
    },
    {
      "cell_type": "code",
      "metadata": {
        "id": "2x4g3wh6Jkq9"
      },
      "source": [
        "\"\"\"\n",
        "Lorem \n",
        "ipsum\n",
        "\"\"\""
      ],
      "execution_count": null,
      "outputs": []
    },
    {
      "cell_type": "code",
      "metadata": {
        "id": "aYSkdveQJkq_",
        "outputId": "ccd45d54-ae63-4449-bd40-57f471ff26d5"
      },
      "source": [
        "type('Lorem ipsum')"
      ],
      "execution_count": null,
      "outputs": [
        {
          "output_type": "execute_result",
          "data": {
            "text/plain": [
              "str"
            ]
          },
          "metadata": {
            "tags": []
          },
          "execution_count": 2
        }
      ]
    },
    {
      "cell_type": "code",
      "metadata": {
        "id": "f3hIC_cTJkrB",
        "outputId": "985424ba-d6fc-4718-e2d3-634a655f1169"
      },
      "source": [
        "\"Lorem\" +  \" \" + \"ipsum\""
      ],
      "execution_count": null,
      "outputs": [
        {
          "output_type": "execute_result",
          "data": {
            "text/plain": [
              "'Lorem ipsum'"
            ]
          },
          "metadata": {
            "tags": []
          },
          "execution_count": 3
        }
      ]
    },
    {
      "cell_type": "code",
      "metadata": {
        "id": "wFsjpwIsJkrE",
        "outputId": "5712cb2f-f84e-44b5-e945-fd8ca7ecad07"
      },
      "source": [
        "\"Python\" \" \" \"bir\" \" \" \"programlama\" \" \" \"dilidir.\""
      ],
      "execution_count": null,
      "outputs": [
        {
          "output_type": "execute_result",
          "data": {
            "text/plain": [
              "'Python bir proglama dilidir.'"
            ]
          },
          "metadata": {
            "tags": []
          },
          "execution_count": 4
        }
      ]
    },
    {
      "cell_type": "markdown",
      "metadata": {
        "id": "vQse1DFIJkrI"
      },
      "source": [
        "___\n",
        "## Sayılar ( Numbers )"
      ]
    },
    {
      "cell_type": "code",
      "metadata": {
        "id": "vHy6mIU1JkrI",
        "outputId": "6ee5badf-3b7a-4f0f-928c-4e2fe047ec49"
      },
      "source": [
        "type(123)"
      ],
      "execution_count": null,
      "outputs": [
        {
          "output_type": "execute_result",
          "data": {
            "text/plain": [
              "int"
            ]
          },
          "metadata": {
            "tags": []
          },
          "execution_count": 5
        }
      ]
    },
    {
      "cell_type": "code",
      "metadata": {
        "id": "quas3r0gJkrK",
        "outputId": "139b91b0-84e7-43ef-cbfe-1e03ebfde932"
      },
      "source": [
        "type(22.3)"
      ],
      "execution_count": null,
      "outputs": [
        {
          "output_type": "execute_result",
          "data": {
            "text/plain": [
              "float"
            ]
          },
          "metadata": {
            "tags": []
          },
          "execution_count": 6
        }
      ]
    },
    {
      "cell_type": "code",
      "metadata": {
        "id": "Ah4oWZ2QJkrM",
        "outputId": "abfd2d4a-9c92-442f-df44-325d20b71060"
      },
      "source": [
        "type(7+2j)"
      ],
      "execution_count": null,
      "outputs": [
        {
          "output_type": "execute_result",
          "data": {
            "text/plain": [
              "complex"
            ]
          },
          "metadata": {
            "tags": []
          },
          "execution_count": 7
        }
      ]
    },
    {
      "cell_type": "markdown",
      "metadata": {
        "id": "LC5-o1chJkrO"
      },
      "source": [
        "___\n",
        "## Aritmetik Oparatörler ( Arithmetic Operators )"
      ]
    },
    {
      "cell_type": "code",
      "metadata": {
        "id": "ECFbr1XuJkrO",
        "outputId": "0c6f31a5-3b2b-471f-8d7c-b80e655dfabe"
      },
      "source": [
        "100 - 55"
      ],
      "execution_count": null,
      "outputs": [
        {
          "output_type": "execute_result",
          "data": {
            "text/plain": [
              "45"
            ]
          },
          "metadata": {
            "tags": []
          },
          "execution_count": 8
        }
      ]
    },
    {
      "cell_type": "code",
      "metadata": {
        "id": "wZsYupFqJkrQ",
        "outputId": "e0132418-87c4-44e9-9dc7-d0b5180a8a02"
      },
      "source": [
        "4.5 - 1.2"
      ],
      "execution_count": null,
      "outputs": [
        {
          "output_type": "execute_result",
          "data": {
            "text/plain": [
              "3.3"
            ]
          },
          "metadata": {
            "tags": []
          },
          "execution_count": 9
        }
      ]
    },
    {
      "cell_type": "code",
      "metadata": {
        "id": "gKx04jX5JkrS",
        "outputId": "e0acd08f-a3f6-4494-c677-a83648410d9b"
      },
      "source": [
        "4.5 * 2"
      ],
      "execution_count": null,
      "outputs": [
        {
          "output_type": "execute_result",
          "data": {
            "text/plain": [
              "9.0"
            ]
          },
          "metadata": {
            "tags": []
          },
          "execution_count": 10
        }
      ]
    },
    {
      "cell_type": "code",
      "metadata": {
        "id": "3m1dbTPRJkrU",
        "outputId": "fe832369-7fe2-4646-f2bd-abc4e5f38215"
      },
      "source": [
        "10 / 2"
      ],
      "execution_count": null,
      "outputs": [
        {
          "output_type": "execute_result",
          "data": {
            "text/plain": [
              "5.0"
            ]
          },
          "metadata": {
            "tags": []
          },
          "execution_count": 11
        }
      ]
    },
    {
      "cell_type": "code",
      "metadata": {
        "id": "GkaKS_zyJkrW",
        "outputId": "db701b0b-a48e-48f0-a3bc-9bc687496b74"
      },
      "source": [
        "4**2"
      ],
      "execution_count": null,
      "outputs": [
        {
          "output_type": "execute_result",
          "data": {
            "text/plain": [
              "16"
            ]
          },
          "metadata": {
            "tags": []
          },
          "execution_count": 12
        }
      ]
    },
    {
      "cell_type": "code",
      "metadata": {
        "id": "x8nFQ7-2JkrY",
        "outputId": "6afdf5a7-9762-4a48-cd6b-7f66fef3b37e"
      },
      "source": [
        "10 % 3"
      ],
      "execution_count": null,
      "outputs": [
        {
          "output_type": "execute_result",
          "data": {
            "text/plain": [
              "1"
            ]
          },
          "metadata": {
            "tags": []
          },
          "execution_count": 13
        }
      ]
    },
    {
      "cell_type": "code",
      "metadata": {
        "id": "GkuRzYdiJkra",
        "outputId": "2dcaf8d4-e683-41de-e353-08b518d5cfb5"
      },
      "source": [
        "10 // 3"
      ],
      "execution_count": null,
      "outputs": [
        {
          "output_type": "execute_result",
          "data": {
            "text/plain": [
              "3"
            ]
          },
          "metadata": {
            "tags": []
          },
          "execution_count": 14
        }
      ]
    },
    {
      "cell_type": "code",
      "metadata": {
        "id": "HiVV2JdBJkrc",
        "outputId": "646e5c4e-c32e-4b04-f647-a42d9597556c"
      },
      "source": [
        "pow(5, 2)"
      ],
      "execution_count": null,
      "outputs": [
        {
          "output_type": "execute_result",
          "data": {
            "text/plain": [
              "25"
            ]
          },
          "metadata": {
            "tags": []
          },
          "execution_count": 15
        }
      ]
    },
    {
      "cell_type": "code",
      "metadata": {
        "id": "pvzE9wvCJkre",
        "outputId": "237ed633-5445-41f2-d1bd-6cabc727ebfe"
      },
      "source": [
        "type(2020)"
      ],
      "execution_count": null,
      "outputs": [
        {
          "output_type": "execute_result",
          "data": {
            "text/plain": [
              "int"
            ]
          },
          "metadata": {
            "tags": []
          },
          "execution_count": 16
        }
      ]
    },
    {
      "cell_type": "code",
      "metadata": {
        "id": "j2O1BKgfJkrG",
        "outputId": "e89ff0fa-fad0-42d9-c01d-1cab4f90e537"
      },
      "source": [
        "\"Python\"*2"
      ],
      "execution_count": null,
      "outputs": [
        {
          "output_type": "execute_result",
          "data": {
            "text/plain": [
              "'PythonPython'"
            ]
          },
          "metadata": {
            "tags": []
          },
          "execution_count": 17
        }
      ]
    },
    {
      "cell_type": "markdown",
      "metadata": {
        "id": "OS_gd-AjJkry"
      },
      "source": [
        "___\n",
        "## Değişkenler ( Variables )"
      ]
    },
    {
      "cell_type": "code",
      "metadata": {
        "id": "NVU2uRsKJkry"
      },
      "source": [
        "değişken1 = 112\n",
        "değişken2 = 155"
      ],
      "execution_count": null,
      "outputs": []
    },
    {
      "cell_type": "code",
      "metadata": {
        "id": "YtzLclPYJkr0",
        "outputId": "1edfbcce-229c-4d91-e7c5-d24b4cb96119"
      },
      "source": [
        "değişken1"
      ],
      "execution_count": null,
      "outputs": [
        {
          "output_type": "execute_result",
          "data": {
            "text/plain": [
              "112"
            ]
          },
          "metadata": {
            "tags": []
          },
          "execution_count": 19
        }
      ]
    },
    {
      "cell_type": "code",
      "metadata": {
        "id": "S_l93AIwJkr2"
      },
      "source": [
        "değişken1, değişken2 = değişken2, değişken1"
      ],
      "execution_count": null,
      "outputs": []
    },
    {
      "cell_type": "code",
      "metadata": {
        "id": "rjy2dTpmJkr3",
        "outputId": "39afb2d4-7238-4981-d7af-6ef9bc043aae"
      },
      "source": [
        "değişken1"
      ],
      "execution_count": null,
      "outputs": [
        {
          "output_type": "execute_result",
          "data": {
            "text/plain": [
              "155"
            ]
          },
          "metadata": {
            "tags": []
          },
          "execution_count": 21
        }
      ]
    },
    {
      "cell_type": "code",
      "metadata": {
        "id": "blSdUaiwJkrh"
      },
      "source": [
        "saatlik_ücret = 10\n",
        "haftalık_çalışma_saati = 40"
      ],
      "execution_count": null,
      "outputs": []
    },
    {
      "cell_type": "code",
      "metadata": {
        "id": "w84b9N1iJkrj",
        "outputId": "b26aa00c-1065-4fd1-89de-6a13b12c525b"
      },
      "source": [
        "maaş = haftalık_çalışma_saati * saatlik_ücret\n",
        "maaş"
      ],
      "execution_count": null,
      "outputs": [
        {
          "output_type": "execute_result",
          "data": {
            "text/plain": [
              "400"
            ]
          },
          "metadata": {
            "tags": []
          },
          "execution_count": 23
        }
      ]
    },
    {
      "cell_type": "code",
      "metadata": {
        "id": "ipZ5R5XpJkrk"
      },
      "source": [
        "username = \"admin\""
      ],
      "execution_count": null,
      "outputs": []
    },
    {
      "cell_type": "code",
      "metadata": {
        "id": "RWhzoaoNJkrn"
      },
      "source": [
        "password = \"password\""
      ],
      "execution_count": null,
      "outputs": []
    },
    {
      "cell_type": "code",
      "metadata": {
        "id": "bJ-h6zLIJkrp",
        "outputId": "671d3713-93f9-4869-cbb8-f4e1b404158c"
      },
      "source": [
        "len(username)"
      ],
      "execution_count": null,
      "outputs": [
        {
          "output_type": "execute_result",
          "data": {
            "text/plain": [
              "5"
            ]
          },
          "metadata": {
            "tags": []
          },
          "execution_count": 26
        }
      ]
    },
    {
      "cell_type": "code",
      "metadata": {
        "id": "bhiKQN4QJkrr",
        "outputId": "05d04a31-deb6-4842-c2ec-65aa768005e0"
      },
      "source": [
        "len(username) + len(password)"
      ],
      "execution_count": null,
      "outputs": [
        {
          "output_type": "execute_result",
          "data": {
            "text/plain": [
              "13"
            ]
          },
          "metadata": {
            "tags": []
          },
          "execution_count": 27
        }
      ]
    },
    {
      "cell_type": "code",
      "metadata": {
        "id": "0h-Svli1Jkrt"
      },
      "source": [
        "sayı = 5\n",
        "# 5\n",
        "\n",
        "sayı += 5\n",
        "print(sayı)\n",
        "# 10\n",
        "\n",
        "sayı -= 5\n",
        "print(sayı)\n",
        "# 5\n",
        "\n",
        "sayı *= 5\n",
        "print(sayı)\n",
        "# 25\n",
        "\n",
        "sayı /= 5\n",
        "print(sayı)\n",
        "# 5.0\n",
        "\n",
        "sayı **= 2\n",
        "print(sayı)\n",
        "# 25.0\n",
        "\n",
        "sayı //= 4\n",
        "print(sayı)\n",
        "# 6.0\n",
        "\n",
        "sayı %= 5\n",
        "print(sayı)\n",
        "# 1.0"
      ],
      "execution_count": null,
      "outputs": []
    },
    {
      "cell_type": "code",
      "metadata": {
        "id": "XZ3euUGuJkru",
        "outputId": "9351eb64-5258-46d3-cbf7-91ae71ef1b44"
      },
      "source": [
        "#anahtar kelimeler\n",
        "import keyword\n",
        "keyword.kwlist"
      ],
      "execution_count": null,
      "outputs": [
        {
          "output_type": "execute_result",
          "data": {
            "text/plain": [
              "['False',\n",
              " 'None',\n",
              " 'True',\n",
              " 'and',\n",
              " 'as',\n",
              " 'assert',\n",
              " 'async',\n",
              " 'await',\n",
              " 'break',\n",
              " 'class',\n",
              " 'continue',\n",
              " 'def',\n",
              " 'del',\n",
              " 'elif',\n",
              " 'else',\n",
              " 'except',\n",
              " 'finally',\n",
              " 'for',\n",
              " 'from',\n",
              " 'global',\n",
              " 'if',\n",
              " 'import',\n",
              " 'in',\n",
              " 'is',\n",
              " 'lambda',\n",
              " 'nonlocal',\n",
              " 'not',\n",
              " 'or',\n",
              " 'pass',\n",
              " 'raise',\n",
              " 'return',\n",
              " 'try',\n",
              " 'while',\n",
              " 'with',\n",
              " 'yield']"
            ]
          },
          "metadata": {
            "tags": []
          },
          "execution_count": 28
        }
      ]
    },
    {
      "cell_type": "code",
      "metadata": {
        "id": "n-5-YeXNJkrw"
      },
      "source": [
        "del maaş"
      ],
      "execution_count": null,
      "outputs": []
    },
    {
      "cell_type": "code",
      "metadata": {
        "id": "0TY-s-CFGvLx",
        "outputId": "955662ec-b84d-4e88-91e7-18c5c9c690fe"
      },
      "source": [
        "maaş"
      ],
      "execution_count": null,
      "outputs": [
        {
          "output_type": "error",
          "ename": "NameError",
          "evalue": "name 'maaş' is not defined",
          "traceback": [
            "\u001b[0;31m---------------------------------------------------------------------------\u001b[0m",
            "\u001b[0;31mNameError\u001b[0m                                 Traceback (most recent call last)",
            "\u001b[0;32m<ipython-input-31-3588e5a5f8fd>\u001b[0m in \u001b[0;36m<module>\u001b[0;34m\u001b[0m\n\u001b[0;32m----> 1\u001b[0;31m \u001b[0mmaaş\u001b[0m\u001b[0;34m\u001b[0m\u001b[0;34m\u001b[0m\u001b[0m\n\u001b[0m",
            "\u001b[0;31mNameError\u001b[0m: name 'maaş' is not defined"
          ]
        }
      ]
    },
    {
      "cell_type": "markdown",
      "metadata": {
        "id": "oXefclbtJkr5"
      },
      "source": [
        "___\n",
        "## Print Fonksiyonu"
      ]
    },
    {
      "cell_type": "code",
      "metadata": {
        "id": "gltwoG-CGvLy",
        "outputId": "05ca4f11-3ec2-4fee-8953-9bcf7c734b7a"
      },
      "source": [
        "print(\"Hello World\")"
      ],
      "execution_count": null,
      "outputs": [
        {
          "output_type": "stream",
          "text": [
            "Hello World\n"
          ],
          "name": "stdout"
        }
      ]
    },
    {
      "cell_type": "code",
      "metadata": {
        "id": "zMyB-Ss8Jkr5",
        "outputId": "40910e76-4975-45af-c331-972a21726b8b"
      },
      "source": [
        "print(\"Lorem\", \"Ipsum\", \"is\", \"simply\", \"dummy\", \"text\")"
      ],
      "execution_count": null,
      "outputs": [
        {
          "output_type": "stream",
          "text": [
            "Lorem Ipsum is simply dummy text\n"
          ],
          "name": "stdout"
        }
      ]
    },
    {
      "cell_type": "code",
      "metadata": {
        "id": "WjIT8y4NJkr7"
      },
      "source": [
        "print(\"Lorem Ipsum is simply dummy text\", sep=\" \", end=\"\\n\")"
      ],
      "execution_count": null,
      "outputs": []
    },
    {
      "cell_type": "code",
      "metadata": {
        "id": "zzrxTH1xJkr9",
        "outputId": "e470d56b-ec16-45ce-8cce-ee7107e7482f"
      },
      "source": [
        "print(\"Lorem\", \"Ipsum\", \"is\", \"simply\", \"dummy\", \"text\", sep=\"-\", end=\"\\n\")"
      ],
      "execution_count": null,
      "outputs": [
        {
          "output_type": "stream",
          "text": [
            "Lorem-Ipsum-is-simply-dummy-text\n"
          ],
          "name": "stdout"
        }
      ]
    },
    {
      "cell_type": "code",
      "metadata": {
        "id": "PXC2avEeJkr-",
        "outputId": "78c746ff-c52f-45e5-fd6a-840b2c1d78d1"
      },
      "source": [
        "print(\"Lorem\", \"Ipsum\", \"is\", \"simply\", \"dummy\", \"text\", sep=\"-py-\", end=\"!!\")"
      ],
      "execution_count": null,
      "outputs": [
        {
          "output_type": "stream",
          "text": [
            "Lorem-py-Ipsum-py-is-py-simply-py-dummy-py-text!!"
          ],
          "name": "stdout"
        }
      ]
    },
    {
      "cell_type": "code",
      "metadata": {
        "id": "ReIClT58JksB",
        "outputId": "22453a1b-f70f-48f8-e6ce-96f84daa601b"
      },
      "source": [
        "print(*\"Lorem ipsum\", sep=\"-\")"
      ],
      "execution_count": null,
      "outputs": [
        {
          "output_type": "stream",
          "text": [
            "L-o-r-e-m- -i-p-s-u-m\n"
          ],
          "name": "stdout"
        }
      ]
    },
    {
      "cell_type": "code",
      "metadata": {
        "id": "1bWuHVxxJksD",
        "outputId": "0cf03fda-eaab-4058-81a4-75cb6fc69775"
      },
      "source": [
        "print(\"Ölü\", \"Ozanlar\", \"Derneği\", 1989)"
      ],
      "execution_count": null,
      "outputs": [
        {
          "output_type": "stream",
          "text": [
            "Ölü Ozanlar Derneği 1989\n"
          ],
          "name": "stdout"
        }
      ]
    },
    {
      "cell_type": "code",
      "metadata": {
        "id": "W2Qxkm6DJksF",
        "outputId": "e93d2343-8e41-4239-9cc4-32d878d7f51e"
      },
      "source": [
        "print(\"Python is an interpreted, high-level, general-purpose programming language. Created by Guido van Rossum and first released in 1991, Python has a design philosophy that emphasizes code readability, notably using significant whitespace. It provides constructs that enable clear programming on both small and large scales. \")"
      ],
      "execution_count": null,
      "outputs": [
        {
          "output_type": "stream",
          "text": [
            "Python is an interpreted, high-level, general-purpose programming language. Created by Guido van Rossum and first released in 1991, Python has a design philosophy that emphasizes code readability, notably using significant whitespace. It provides constructs that enable clear programming on both small and large scales. \n"
          ],
          "name": "stdout"
        }
      ]
    },
    {
      "cell_type": "code",
      "metadata": {
        "id": "4O1dUaSLJksH",
        "outputId": "14b4b7b0-8d83-49a2-922c-f0c50740bd10"
      },
      "source": [
        "print(\"Ölü \n",
        "      Ozanlar \n",
        "      Derneği\")"
      ],
      "execution_count": null,
      "outputs": [
        {
          "output_type": "error",
          "ename": "SyntaxError",
          "evalue": "EOL while scanning string literal (<ipython-input-39-87d73e5ebdc7>, line 1)",
          "traceback": [
            "\u001b[0;36m  File \u001b[0;32m\"<ipython-input-39-87d73e5ebdc7>\"\u001b[0;36m, line \u001b[0;32m1\u001b[0m\n\u001b[0;31m    print(\"Ölü\u001b[0m\n\u001b[0m               ^\u001b[0m\n\u001b[0;31mSyntaxError\u001b[0m\u001b[0;31m:\u001b[0m EOL while scanning string literal\n"
          ]
        }
      ]
    },
    {
      "cell_type": "code",
      "metadata": {
        "id": "Whp0QyTfJksJ",
        "outputId": "5b5db8bc-33a1-4498-ce82-20949e8761e9"
      },
      "source": [
        "print(\"\"\"Ölü \n",
        "Ozanlar \n",
        "Derneği\"\"\")"
      ],
      "execution_count": null,
      "outputs": [
        {
          "output_type": "stream",
          "text": [
            "Ölü \n",
            "Ozanlar \n",
            "Derneği\n"
          ],
          "name": "stdout"
        }
      ]
    },
    {
      "cell_type": "code",
      "metadata": {
        "id": "c0pdZlIWJksM",
        "outputId": "99ec2d86-215d-4c39-d57c-54451074d63b"
      },
      "source": [
        "print(\"\\\"Dünya Güneş Venüs Mars\\\"\")"
      ],
      "execution_count": null,
      "outputs": [
        {
          "output_type": "stream",
          "text": [
            "\"Dünya Güneş Venüs Mars\"\n"
          ],
          "name": "stdout"
        }
      ]
    },
    {
      "cell_type": "code",
      "metadata": {
        "id": "n1ItmqInJksO",
        "outputId": "f1430ca7-b05e-4dc8-c90e-1a98e26f0f49"
      },
      "source": [
        "print(\"Gül sokak 10\\\\7 Merkez\\\\Niğde\")"
      ],
      "execution_count": null,
      "outputs": [
        {
          "output_type": "stream",
          "text": [
            "Gül sokak 10\\7 Merkez\\Niğde\n"
          ],
          "name": "stdout"
        }
      ]
    },
    {
      "cell_type": "code",
      "metadata": {
        "id": "VvH7DFFsJksP",
        "outputId": "c02f6c5d-1ee2-47cd-c3f6-2dcbe06d61ac"
      },
      "source": [
        "print(\"Eski Satırbaşı\\rYeni\")"
      ],
      "execution_count": null,
      "outputs": [
        {
          "output_type": "stream",
          "text": [
            "Yeni Satırbaşı\n"
          ],
          "name": "stdout"
        }
      ]
    },
    {
      "cell_type": "code",
      "metadata": {
        "id": "Kcdy2EF8JksQ",
        "outputId": "1f24ba28-86cd-430b-e117-b45ad94c4ff9"
      },
      "source": [
        "print(\"Birkaç boşluk\\taralık\")"
      ],
      "execution_count": null,
      "outputs": [
        {
          "output_type": "stream",
          "text": [
            "Birkaç boşluk\taralık\n"
          ],
          "name": "stdout"
        }
      ]
    },
    {
      "cell_type": "code",
      "metadata": {
        "id": "klrsapKtGvLz",
        "outputId": "bc64e10f-0622-4faf-c488-6913bf8a0816"
      },
      "source": [
        "print(r\"\\nMerhaba\\tDünya\\r\\\\\")"
      ],
      "execution_count": null,
      "outputs": [
        {
          "output_type": "stream",
          "text": [
            "\\nMerhaba\\tDünya\\r\\\\\n"
          ],
          "name": "stdout"
        }
      ]
    },
    {
      "cell_type": "markdown",
      "metadata": {
        "id": "3B7tlffyJksS"
      },
      "source": [
        "___\n",
        "## Kullanıcıdan Veri Almak ( input() )"
      ]
    },
    {
      "cell_type": "code",
      "metadata": {
        "id": "dkLi7oGXJksS",
        "outputId": "af871bf7-d17d-461c-e3b0-2fdef9c03749"
      },
      "source": [
        "isim = input(\"İsminiz: \")\n",
        "yaş = input(\"Yaşınız: \")\n",
        "print(isim, yaş)"
      ],
      "execution_count": null,
      "outputs": [
        {
          "output_type": "stream",
          "text": [
            "İsminiz:  John Doe\n",
            "Yaşınız:  33\n"
          ],
          "name": "stdin"
        },
        {
          "output_type": "stream",
          "text": [
            "John Doe 33\n"
          ],
          "name": "stdout"
        }
      ]
    },
    {
      "cell_type": "code",
      "metadata": {
        "id": "rn36GmZeJksT",
        "outputId": "aa3eb947-5d2d-41a0-8775-d8e6e0b80711"
      },
      "source": [
        "yaş + 10"
      ],
      "execution_count": null,
      "outputs": [
        {
          "output_type": "error",
          "ename": "TypeError",
          "evalue": "can only concatenate str (not \"int\") to str",
          "traceback": [
            "\u001b[0;31m---------------------------------------------------------------------------\u001b[0m",
            "\u001b[0;31mTypeError\u001b[0m                                 Traceback (most recent call last)",
            "\u001b[0;32m<ipython-input-50-140bed50b6ad>\u001b[0m in \u001b[0;36m<module>\u001b[0;34m\u001b[0m\n\u001b[0;32m----> 1\u001b[0;31m \u001b[0myaş\u001b[0m \u001b[0;34m+\u001b[0m \u001b[0;36m10\u001b[0m\u001b[0;34m\u001b[0m\u001b[0;34m\u001b[0m\u001b[0m\n\u001b[0m",
            "\u001b[0;31mTypeError\u001b[0m: can only concatenate str (not \"int\") to str"
          ]
        }
      ]
    },
    {
      "cell_type": "code",
      "metadata": {
        "id": "khSPjLXwJksV",
        "outputId": "679ce673-8503-4f0a-bdd0-5341fb6d02cd"
      },
      "source": [
        "type(yaş)"
      ],
      "execution_count": null,
      "outputs": [
        {
          "output_type": "execute_result",
          "data": {
            "text/plain": [
              "str"
            ]
          },
          "metadata": {
            "tags": []
          },
          "execution_count": 51
        }
      ]
    },
    {
      "cell_type": "markdown",
      "metadata": {
        "id": "mq-btx0zJksY"
      },
      "source": [
        "___\n",
        "## Tip Dönüşümleri ( Type Casting )"
      ]
    },
    {
      "cell_type": "code",
      "metadata": {
        "id": "pl9GcoiSJksY",
        "outputId": "9c82da60-fb4b-433b-b46d-671fef4c81c8"
      },
      "source": [
        "yaş = int(yaş) + 10\n",
        "print(yaş)\n",
        "print(type(yaş))"
      ],
      "execution_count": null,
      "outputs": [
        {
          "output_type": "stream",
          "text": [
            "43\n",
            "<class 'int'>\n"
          ],
          "name": "stdout"
        }
      ]
    },
    {
      "cell_type": "code",
      "metadata": {
        "id": "GT0_jzMIJksb",
        "outputId": "5ad69d1b-e69b-4ae2-f9f4-9b09e4e7854d"
      },
      "source": [
        "yaş = float(yaş) + 5.5\n",
        "print(yaş)\n",
        "print(type(yaş))"
      ],
      "execution_count": null,
      "outputs": [
        {
          "output_type": "stream",
          "text": [
            "58.5\n",
            "<class 'float'>\n"
          ],
          "name": "stdout"
        }
      ]
    },
    {
      "cell_type": "code",
      "metadata": {
        "id": "tM7yyV_pJksd",
        "outputId": "6a9ccbb4-ba6f-4d34-b457-0a929771b834"
      },
      "source": [
        "print(isim + \" \" + str(yaş) + \" yaşında!\")"
      ],
      "execution_count": null,
      "outputs": [
        {
          "output_type": "stream",
          "text": [
            "John Doe 58.5 yaşında!\n"
          ],
          "name": "stdout"
        }
      ]
    },
    {
      "cell_type": "code",
      "metadata": {
        "id": "A968qrVFJksf",
        "outputId": "7c3939cb-65b5-49ed-dac6-9f3f93da9273"
      },
      "source": [
        "print(\"Üs hesaplamak için\")\n",
        "sayı1 = int(input(\"Taban sayıyı girin: \"))\n",
        "sayı2 = int(input(\"Üs sayıyı girin: \"))\n",
        "print(sayı1, \"**\", sayı2, \"=\", pow(sayı1,sayı2))"
      ],
      "execution_count": null,
      "outputs": [
        {
          "output_type": "stream",
          "text": [
            "Üs hesaplamak için\n"
          ],
          "name": "stdout"
        },
        {
          "output_type": "stream",
          "text": [
            "Taban sayıyı girin:  5\n",
            "Üs sayıyı girin:  2\n"
          ],
          "name": "stdin"
        },
        {
          "output_type": "stream",
          "text": [
            "5 ** 2 = 25\n"
          ],
          "name": "stdout"
        }
      ]
    },
    {
      "cell_type": "markdown",
      "metadata": {
        "id": "zmeT-CCMGvL0"
      },
      "source": [
        "___\n",
        "## Karakter Dizisi Biçimlendirme ( String Formatting )"
      ]
    },
    {
      "cell_type": "code",
      "metadata": {
        "id": "xLAdbedkJksh",
        "outputId": "e4254eb1-f88b-4173-9bc3-535f3069a035"
      },
      "source": [
        "print(\"Selam, benim adım {1} ve {0} yaşındayım!\".format(isim, 33))"
      ],
      "execution_count": null,
      "outputs": [
        {
          "output_type": "stream",
          "text": [
            "Selam, benim adım 33 ve John Doe yaşındayım!\n"
          ],
          "name": "stdout"
        }
      ]
    },
    {
      "cell_type": "code",
      "metadata": {
        "id": "TQgVS2PPJksi",
        "outputId": "32a74e9e-5405-4e11-a01e-e3f97b038225"
      },
      "source": [
        "print(f\"Selam, benim adım {isim} ve {yaş-10} yaşındayım!\")"
      ],
      "execution_count": null,
      "outputs": [
        {
          "output_type": "stream",
          "text": [
            "Selam, benim adım John Doe ve 48.5 yaşındayım!\n"
          ],
          "name": "stdout"
        }
      ]
    },
    {
      "cell_type": "markdown",
      "metadata": {
        "id": "rInHfh0wJksj"
      },
      "source": [
        "___\n",
        "## Koşullu Durumlar ( Condition Statements )"
      ]
    },
    {
      "cell_type": "code",
      "metadata": {
        "id": "AKf1VB6EJksk",
        "scrolled": true,
        "outputId": "b5837583-e95b-4f4e-f8e0-095b8a474a0d"
      },
      "source": [
        "bool(1)"
      ],
      "execution_count": null,
      "outputs": [
        {
          "output_type": "execute_result",
          "data": {
            "text/plain": [
              "True"
            ]
          },
          "metadata": {
            "tags": []
          },
          "execution_count": 63
        }
      ]
    },
    {
      "cell_type": "code",
      "metadata": {
        "id": "kLidcn2DGvL0",
        "outputId": "bfb690c7-0c88-40d6-ef85-040b7bd5b35a"
      },
      "source": [
        "bool(0)"
      ],
      "execution_count": null,
      "outputs": [
        {
          "output_type": "execute_result",
          "data": {
            "text/plain": [
              "False"
            ]
          },
          "metadata": {
            "tags": []
          },
          "execution_count": 64
        }
      ]
    },
    {
      "cell_type": "code",
      "metadata": {
        "id": "jFCUE4R0Jksm",
        "outputId": "5596bbe1-d642-48e1-d490-0347e0ac10ea"
      },
      "source": [
        "bool(\"\")"
      ],
      "execution_count": null,
      "outputs": [
        {
          "output_type": "execute_result",
          "data": {
            "text/plain": [
              "False"
            ]
          },
          "metadata": {
            "tags": []
          },
          "execution_count": 67
        }
      ]
    },
    {
      "cell_type": "code",
      "metadata": {
        "id": "8LiNhp5DJksn",
        "outputId": "cb5bff1c-487d-46b1-9bdf-e612eea0468d"
      },
      "source": [
        "bool(\"Lorem ipsum\")"
      ],
      "execution_count": null,
      "outputs": [
        {
          "output_type": "execute_result",
          "data": {
            "text/plain": [
              "11"
            ]
          },
          "metadata": {
            "tags": []
          },
          "execution_count": 69
        }
      ]
    },
    {
      "cell_type": "code",
      "metadata": {
        "id": "-LXjzNywJksp",
        "outputId": "003ce046-fe8a-43bf-ed76-3e332f80ac80"
      },
      "source": [
        "bool(1234)"
      ],
      "execution_count": null,
      "outputs": [
        {
          "output_type": "execute_result",
          "data": {
            "text/plain": [
              "False"
            ]
          },
          "metadata": {
            "tags": []
          },
          "execution_count": 72
        }
      ]
    },
    {
      "cell_type": "markdown",
      "metadata": {
        "id": "mxpEep9qJksq"
      },
      "source": [
        "```\n",
        "==   Eşittir\n",
        "!=   Eşit Değildir\n",
        ">    Büyüktür\n",
        "<    Küçüktür\n",
        ">=   Büyük Eşittir\n",
        "<=   Küçük Eşittir\n",
        "```"
      ]
    },
    {
      "cell_type": "code",
      "metadata": {
        "id": "sYyNRA_kJksr",
        "outputId": "298b7be4-2c93-4439-ae7a-7e2f9fcc61fe"
      },
      "source": [
        "print(\"(50 > 30) :\", (50 > 30))\n",
        "print(\"(20 > 30) :\", (20 > 30))\n",
        "print(\"(50 > 30) and (20 > 30) :\", (50 > 30) and (20 > 30))\n",
        "print(\"(50 > 30) or (20 > 30) :\", (50 > 30) or (20 > 30))"
      ],
      "execution_count": null,
      "outputs": [
        {
          "output_type": "stream",
          "text": [
            "(50 > 30) : True\n",
            "(20 > 30) : False\n",
            "(50 > 30) and (20 > 30) : False\n",
            "(50 > 30) or (20 > 30) : True\n"
          ],
          "name": "stdout"
        }
      ]
    },
    {
      "cell_type": "code",
      "metadata": {
        "id": "zsJgyfC0Jkss",
        "outputId": "c943b7a3-408f-40ad-eff6-46a96db8fe4f"
      },
      "source": [
        "print(True and False)"
      ],
      "execution_count": null,
      "outputs": [
        {
          "output_type": "stream",
          "text": [
            "False\n"
          ],
          "name": "stdout"
        }
      ]
    },
    {
      "cell_type": "code",
      "metadata": {
        "id": "FMVLr_PWJkst",
        "outputId": "daa26ca0-8bb1-440b-c6d2-7956c80d028e"
      },
      "source": [
        "print(True and True)"
      ],
      "execution_count": null,
      "outputs": [
        {
          "output_type": "stream",
          "text": [
            "True\n"
          ],
          "name": "stdout"
        }
      ]
    },
    {
      "cell_type": "code",
      "metadata": {
        "id": "AOgWL1PUJksu",
        "outputId": "f3140f85-e64e-46b4-d0de-b7ff6697d4c8"
      },
      "source": [
        "print(not False)"
      ],
      "execution_count": null,
      "outputs": [
        {
          "output_type": "stream",
          "text": [
            "True\n"
          ],
          "name": "stdout"
        }
      ]
    },
    {
      "cell_type": "code",
      "metadata": {
        "id": "MFQ3lI0ZJksv",
        "outputId": "1ac7f6be-1769-4ec5-bf9c-0187c3c0669c"
      },
      "source": [
        "a = int(input(\"Sayı giriniz:\"))\n",
        "\n",
        "if a < 10:\n",
        "    print(\"10'dan küçük!\")\n",
        "elif a < 15:\n",
        "    print(\"15'ten küçük!\")\n",
        "elif a <= 25:\n",
        "    print(\"25'ten küçük veya 25'e eşit!\")\n",
        "else:\n",
        "    print(\"25'ten büyük!\")"
      ],
      "execution_count": null,
      "outputs": [
        {
          "output_type": "stream",
          "text": [
            "Sayı giriniz: 678\n"
          ],
          "name": "stdin"
        },
        {
          "output_type": "stream",
          "text": [
            "25'ten büyük!\n"
          ],
          "name": "stdout"
        }
      ]
    },
    {
      "cell_type": "code",
      "metadata": {
        "id": "cqrX-afxJksx",
        "outputId": "07c6b3a6-1384-45c5-bfea-c50166461285"
      },
      "source": [
        "gerçek_kullanıcı = \"test\"\n",
        "gerçek_şifre = \"test\"\n",
        "\n",
        "sorulan_kullanıcı = input(\"Kullanıcı adınız:\")\n",
        "sorulan_şifre = input(\"Şifreniz:\")\n",
        "\n",
        "if gerçek_şifre == sorulan_şifre and gerçek_kullanıcı == sorulan_kullanıcı:\n",
        "    print(\"Giriş başarılı!\")\n",
        "elif not sorulan_kullanıcı:\n",
        "    print(\"Kullanıcı adı alanı boş olamaz!\")\n",
        "elif not sorulan_şifre:\n",
        "    print(\"Şifre alanı boş olamaz!\")\n",
        "else:\n",
        "    print(\"Kullanıcı adı veya şifre yanlış!\")"
      ],
      "execution_count": null,
      "outputs": [
        {
          "output_type": "stream",
          "text": [
            "Kullanıcı adınız: test\n",
            "Şifreniz: test2\n"
          ],
          "name": "stdin"
        },
        {
          "output_type": "stream",
          "text": [
            "Kullanıcı adı veya şifre yanlış!\n"
          ],
          "name": "stdout"
        }
      ]
    },
    {
      "cell_type": "code",
      "metadata": {
        "id": "dSJOWv7cJksy",
        "outputId": "63855b5b-8f9e-4d5d-b3b1-da6bd80b916f"
      },
      "source": [
        "cümle = \"\"\"Python, nesne yönelimli, yorumlamalı, \n",
        "birimsel ve etkileşimli yüksek seviyeli bir programlama dilidir.\"\"\"\n",
        "\n",
        "aranacak_sözcük = input(\"Sözcüğü giriniz:\")\n",
        "\n",
        "if aranacak_sözcük in cümle:\n",
        "    print(\"Aranan sözcük cümlede mevcut!\")\n",
        "else:\n",
        "    print(\"Cümlede öyle bir sözcük yok!\")"
      ],
      "execution_count": null,
      "outputs": [
        {
          "output_type": "stream",
          "text": [
            "Sözcüğü giriniz: sözcük\n"
          ],
          "name": "stdin"
        },
        {
          "output_type": "stream",
          "text": [
            "Cümlede öyle bir sözcük yok!\n"
          ],
          "name": "stdout"
        }
      ]
    },
    {
      "cell_type": "markdown",
      "metadata": {
        "id": "h3tDa46CJksz"
      },
      "source": [
        "### Walrus Operator"
      ]
    },
    {
      "cell_type": "code",
      "metadata": {
        "colab": {
          "base_uri": "https://localhost:8080/",
          "height": 130
        },
        "id": "9FvOoOzHJksz",
        "outputId": "3aa17a5d-d7d6-4edb-b69b-de32fa1680fd"
      },
      "source": [
        "# yaş = int(input(\"Yaşınız: \"))\n",
        "if (yaş := int(input(\"Yaşınız: \"))) >= 18:\n",
        "    print(f\"{yaş} yaşındasınız, girebilirsiniz!\")\n",
        "else:\n",
        "    print(f\"{yaş} yaşındasınız, henüz giremezsiniz!\")\n",
        "    \n",
        "print(yaş)"
      ],
      "execution_count": null,
      "outputs": [
        {
          "output_type": "stream",
          "text": [
            "Yaşınız:  21\n"
          ],
          "name": "stdin"
        },
        {
          "output_type": "stream",
          "text": [
            "21 yaşındasınız, girebilirsiniz!\n",
            "21\n"
          ],
          "name": "stdout"
        }
      ]
    },
    {
      "cell_type": "markdown",
      "metadata": {
        "id": "keNFEmgLJks1"
      },
      "source": [
        "### Dosya İşlemleri ( File Operations )"
      ]
    },
    {
      "cell_type": "code",
      "metadata": {
        "id": "bLCRVYjGJks1"
      },
      "source": [
        "f = open('test.txt', 'w')\n",
        "print(\"Deneme0\", file=f, flush=False)"
      ],
      "execution_count": null,
      "outputs": []
    },
    {
      "cell_type": "code",
      "metadata": {
        "id": "uNR6hGxDJks3",
        "outputId": "ef2bc6d3-4801-40a3-852f-d9fb9a62948f"
      },
      "source": [
        "print(\"Deneme1\", file=f, flush=True)\n",
        "print(\"Deneme2\", file=f, flush=True)\n",
        "f.write('Deneme3 f.write() kullanarak')"
      ],
      "execution_count": null,
      "outputs": [
        {
          "output_type": "execute_result",
          "data": {
            "text/plain": [
              "28"
            ]
          },
          "metadata": {
            "tags": []
          },
          "execution_count": 93
        }
      ]
    },
    {
      "cell_type": "code",
      "metadata": {
        "id": "75k8V0ERJks4"
      },
      "source": [
        "f.close()"
      ],
      "execution_count": null,
      "outputs": []
    },
    {
      "cell_type": "code",
      "metadata": {
        "id": "c48LOC3LJks5",
        "outputId": "f73ea201-dddc-4892-f3f1-4d5052518ec4"
      },
      "source": [
        "f = open('test.txt', 'r')\n",
        "print(f.read())"
      ],
      "execution_count": null,
      "outputs": [
        {
          "output_type": "stream",
          "text": [
            "Deneme0\n",
            "Deneme1\n",
            "Deneme2\n",
            "Deneme3 f.write() kullanarak\n"
          ],
          "name": "stdout"
        }
      ]
    },
    {
      "cell_type": "code",
      "metadata": {
        "id": "0Bo2io9aJks6",
        "outputId": "f1f22b0e-dda4-46d3-88d0-fe35ce166f6d"
      },
      "source": [
        "f.seek(0)\n",
        "print(f.read())"
      ],
      "execution_count": null,
      "outputs": [
        {
          "output_type": "stream",
          "text": [
            "Deneme0\n",
            "Deneme1\n",
            "Deneme2\n",
            "Deneme3 f.write() kullanarak\n"
          ],
          "name": "stdout"
        }
      ]
    },
    {
      "cell_type": "code",
      "metadata": {
        "id": "gcz3wDZ9Jks7",
        "outputId": "a7a9b7fb-02a4-4674-f829-c360a78ed651"
      },
      "source": [
        "f.seek(0)\n",
        "print(f.readline())\n",
        "print(f.readline())\n",
        "\n",
        "f.seek(0)\n",
        "print(f.readlines())\n",
        "\n",
        "f.close()"
      ],
      "execution_count": null,
      "outputs": [
        {
          "output_type": "stream",
          "text": [
            "Deneme0\n",
            "\n",
            "Deneme1\n",
            "\n",
            "['Deneme0\\n', 'Deneme1\\n', 'Deneme2\\n', 'Deneme3 f.write() kullanarak']\n"
          ],
          "name": "stdout"
        }
      ]
    },
    {
      "cell_type": "code",
      "metadata": {
        "id": "qDy-qComJks8",
        "outputId": "d6b7b691-d751-4ef2-a71d-9b671c554695"
      },
      "source": [
        "with open('test.txt', 'a') as f:\n",
        "    print(f.read())\n",
        "    f.write('\\nDeneme 4 with open() kullanarak')\n",
        "    \n",
        "    \"\"\"\n",
        "    w = Write\n",
        "    r = Read\n",
        "    a = Append\n",
        "    \"\"\""
      ],
      "execution_count": null,
      "outputs": [
        {
          "output_type": "stream",
          "text": [
            "Deneme0\n",
            "Deneme1\n",
            "Deneme2\n",
            "Deneme3 f.write() kullanarak\n"
          ],
          "name": "stdout"
        }
      ]
    },
    {
      "cell_type": "markdown",
      "metadata": {
        "id": "XTtGXdC8Jks9"
      },
      "source": [
        "___\n",
        "## Döngüler ( Loops )"
      ]
    },
    {
      "cell_type": "code",
      "metadata": {
        "id": "zSxVMO7dJks9",
        "outputId": "53cad051-3f84-47fe-c5a6-1c9a658daef8"
      },
      "source": [
        "a = 5\n",
        "\n",
        "while a < 10:\n",
        "    print(a)\n",
        "    a += 1"
      ],
      "execution_count": null,
      "outputs": [
        {
          "output_type": "stream",
          "text": [
            "5\n",
            "6\n",
            "7\n",
            "8\n",
            "9\n"
          ],
          "name": "stdout"
        }
      ]
    },
    {
      "cell_type": "code",
      "metadata": {
        "id": "GETqbjwpJks-",
        "outputId": "dc2c699f-112b-479a-a210-9735ba7851c1"
      },
      "source": [
        "isim = \"Oğuz ATAY\"\n",
        "for harf in isim:\n",
        "    print(harf)"
      ],
      "execution_count": null,
      "outputs": [
        {
          "output_type": "stream",
          "text": [
            "O\n",
            "ğ\n",
            "u\n",
            "z\n",
            " \n",
            "A\n",
            "T\n",
            "A\n",
            "Y\n"
          ],
          "name": "stdout"
        }
      ]
    },
    {
      "cell_type": "markdown",
      "metadata": {
        "id": "DSTZe9HZJks_"
      },
      "source": [
        "___\n",
        "#### range, break, continue, pass statements\n",
        "___"
      ]
    },
    {
      "cell_type": "code",
      "metadata": {
        "id": "9VaEuTCTJks_",
        "outputId": "4accbfc9-e668-4cc5-cd60-b0db9741b463"
      },
      "source": [
        "for i in range(2, 10, 2):\n",
        "    print(i, end=\"\\n\")"
      ],
      "execution_count": null,
      "outputs": [
        {
          "output_type": "stream",
          "text": [
            "2\n",
            "4\n",
            "6\n",
            "8\n"
          ],
          "name": "stdout"
        }
      ]
    },
    {
      "cell_type": "code",
      "metadata": {
        "id": "0siOxWwaJktB",
        "outputId": "7967f359-caa2-425a-c700-4bcf9da572b2"
      },
      "source": [
        "for i in range(10):\n",
        "    print(i, end=\" \")\n",
        "    if i == 5:\n",
        "        break"
      ],
      "execution_count": null,
      "outputs": [
        {
          "output_type": "stream",
          "text": [
            "0 1 2 3 4 5 "
          ],
          "name": "stdout"
        }
      ]
    },
    {
      "cell_type": "code",
      "metadata": {
        "id": "M0V6IR9pJktE",
        "outputId": "8dbbdf73-067f-44e7-811e-e77952b4dbae"
      },
      "source": [
        "for i in range(10):\n",
        "    if i == 5:\n",
        "        continue\n",
        "    print(i, end=\" \")"
      ],
      "execution_count": null,
      "outputs": [
        {
          "output_type": "stream",
          "text": [
            "0 1 2 3 4 6 7 8 9 "
          ],
          "name": "stdout"
        }
      ]
    },
    {
      "cell_type": "code",
      "metadata": {
        "id": "g0v7IX64JktG",
        "outputId": "77d842de-bed2-45c1-b2f1-878e95da5f8d"
      },
      "source": [
        "for i in range(10):\n",
        "    if i == 5:\n",
        "        pass\n",
        "    print(i, end=\" \")"
      ],
      "execution_count": null,
      "outputs": [
        {
          "output_type": "stream",
          "text": [
            "0 1 2 3 4 5 6 7 8 9 "
          ],
          "name": "stdout"
        }
      ]
    },
    {
      "cell_type": "code",
      "metadata": {
        "id": "ZDm4QzVxJktH",
        "outputId": "6485440e-4eed-49bf-a05b-f48826b2b83a"
      },
      "source": [
        "gerçek_kullanıcı = \"test\"\n",
        "gerçek_şifre = \"test\"\n",
        "\n",
        "while True:\n",
        "    sorulan_kullanıcı = input(\"Kullanıcı adınız:\")\n",
        "    sorulan_şifre = input(\"Şifreniz:\")\n",
        "    \n",
        "    if gerçek_şifre == sorulan_şifre and gerçek_kullanıcı == sorulan_kullanıcı:\n",
        "        print(\"Giriş başarılı!\")\n",
        "        break\n",
        "    elif not sorulan_kullanıcı:\n",
        "        print(\"Kullanıcı adı alanı boş olamaz!\")\n",
        "    elif not sorulan_şifre:\n",
        "        print(\"Şifre alanı boş olamaz!\")\n",
        "    else:\n",
        "        print(\"Kullanıcı adı veya şifre yanlış!\")\n",
        "    \n",
        "    print(\"*\"*30)"
      ],
      "execution_count": null,
      "outputs": [
        {
          "output_type": "stream",
          "text": [
            "Kullanıcı adınız: \n",
            "Şifreniz: test\n"
          ],
          "name": "stdin"
        },
        {
          "output_type": "stream",
          "text": [
            "Kullanıcı adı alanı boş olamaz!\n",
            "******************************\n"
          ],
          "name": "stdout"
        },
        {
          "output_type": "stream",
          "text": [
            "Kullanıcı adınız: test\n",
            "Şifreniz: \n"
          ],
          "name": "stdin"
        },
        {
          "output_type": "stream",
          "text": [
            "Şifre alanı boş olamaz!\n",
            "******************************\n"
          ],
          "name": "stdout"
        },
        {
          "output_type": "stream",
          "text": [
            "Kullanıcı adınız: a\n",
            "Şifreniz: a\n"
          ],
          "name": "stdin"
        },
        {
          "output_type": "stream",
          "text": [
            "Kullanıcı adı veya şifre yanlış!\n",
            "******************************\n"
          ],
          "name": "stdout"
        },
        {
          "output_type": "stream",
          "text": [
            "Kullanıcı adınız: break\n",
            "Şifreniz: break\n"
          ],
          "name": "stdin"
        },
        {
          "output_type": "stream",
          "text": [
            "Kullanıcı adı veya şifre yanlış!\n",
            "******************************\n"
          ],
          "name": "stdout"
        },
        {
          "output_type": "stream",
          "text": [
            "Kullanıcı adınız: test\n",
            "Şifreniz: test\n"
          ],
          "name": "stdin"
        },
        {
          "output_type": "stream",
          "text": [
            "Giriş başarılı!\n"
          ],
          "name": "stdout"
        }
      ]
    },
    {
      "cell_type": "markdown",
      "metadata": {
        "id": "ybZhmq0MJktI"
      },
      "source": [
        "___\n",
        "## Hata Yakalama Try/Except/Finally ( Exception Handling )"
      ]
    },
    {
      "cell_type": "markdown",
      "metadata": {
        "id": "73JXTr5QJktI"
      },
      "source": [
        "|Error Name| Description|\n",
        "| --------------------------------------|:----------------------:|\n",
        "|AssertionError|Raised when the assert statement fails.|\n",
        "|AttributeError|Raised on the attribute assignment or reference fails.|\n",
        "|EOFError|Raised when the input() function hits the end-of-file condition.|\n",
        "|FloatingPointError|Raised when a floating point operation fails.|\n",
        "|GeneratorExit|Raised when a generator's close() method is called.|\n",
        "|ImportError|Raised when the imported module is not found.|\n",
        "|IndexError|Raised when the index of a sequence is out of range.|\n",
        "|KeyError|Raised when a key is not found in a dictionary.|\n",
        "|KeyboardInterrupt|Raised when the user hits the interrupt key (Ctrl+c or delete).|\n",
        "|MemoryError|Raised when an operation runs out of memory.|\n",
        "|NameError|Raised when a variable is not found in the local or global scope.|\n",
        "|NotImplementedError|Raised by abstract methods.|\n",
        "|OSError|Raised when a system operation causes a system-related error.|\n",
        "|OverflowError|Raised when the result of an arithmetic operation is too large to be represented.|\n",
        "|ReferenceError|Raised when a weak reference proxy is used to access a garbage collected referent.|\n",
        "|RuntimeError|Raised when an error does not fall under any other category.|\n",
        "|StopIteration|Raised by the next() function to indicate that there is no further item to be returned by the iterator.|\n",
        "|SyntaxError|Raised by the parser when a syntax error is encountered.|\n",
        "|IndentationError|Raised when there is an incorrect indentation.|\n",
        "|TabError|Raised when the indentation consists of inconsistent tabs and spaces.|\n",
        "|SystemError|Raised when the interpreter detects internal error.|\n",
        "|SystemExit|Raised by the sys.exit() function.|\n",
        "|TypeError|Raised when a function or operation is applied to an object of an incorrect type.|\n",
        "|UnboundLocalError|Raised when a reference is made to a local variable in a function or method, but no value has been bound to that variable.|\n",
        "|UnicodeError|Raised when a Unicode-related encoding or decoding error occurs.|\n",
        "|UnicodeEncodeError|Raised when a Unicode-related error occurs during encoding.|\n",
        "|UnicodeDecodeError|Raised when a Unicode-related error occurs during decoding.|\n",
        "|UnicodeTranslateError|Raised when a Unicode-related error occurs during translation.|\n",
        "|ValueError|Raised when a function gets an argument of correct type but improper value.|\n",
        "|ZeroDivisionError|Raised when the second operand of a division or module operation is zero.|"
      ]
    },
    {
      "cell_type": "code",
      "metadata": {
        "id": "p0ldUImfJktJ",
        "outputId": "a64a294b-2562-45f3-8ffc-196a873bafba"
      },
      "source": [
        "try:\n",
        "    sayı1 = int(input(\"Bölünecek sayıyı giriniz:\"))\n",
        "    sayı2 = int(input(\"Bölecek sayıyı giriniz:\"))\n",
        "    sonuc = sayı1 / sayı2\n",
        "    print(sonuc)\n",
        "    \n",
        "except:\n",
        "    print(\"Bir hata meydana geldi!\")"
      ],
      "execution_count": null,
      "outputs": [
        {
          "output_type": "stream",
          "text": [
            "Bir hata meydana geldi!\n"
          ],
          "name": "stdout"
        }
      ]
    },
    {
      "cell_type": "code",
      "metadata": {
        "id": "_29AMcL4JktK",
        "outputId": "5cfadbf4-1a0d-4f1c-80b5-431f6a2f6e9d"
      },
      "source": [
        "yaş = int(input(\"Yaşınızı girin:\"))\n",
        "if yaş < 0:\n",
        "    raise Exception(\"Yaşınız negatif bir sayı olamaz!\")\n",
        "print(yaş)"
      ],
      "execution_count": null,
      "outputs": [
        {
          "output_type": "stream",
          "text": [
            "Yaşınızı girin: -10\n"
          ],
          "name": "stdin"
        },
        {
          "output_type": "error",
          "ename": "Exception",
          "evalue": "Yaşınız negatif bir sayı olamaz!",
          "traceback": [
            "\u001b[0;31m---------------------------------------------------------------------------\u001b[0m",
            "\u001b[0;31mException\u001b[0m                                 Traceback (most recent call last)",
            "\u001b[0;32m<ipython-input-121-514347576ca1>\u001b[0m in \u001b[0;36m<module>\u001b[0;34m\u001b[0m\n\u001b[1;32m      1\u001b[0m \u001b[0myaş\u001b[0m \u001b[0;34m=\u001b[0m \u001b[0mint\u001b[0m\u001b[0;34m(\u001b[0m\u001b[0minput\u001b[0m\u001b[0;34m(\u001b[0m\u001b[0;34m\"Yaşınızı girin:\"\u001b[0m\u001b[0;34m)\u001b[0m\u001b[0;34m)\u001b[0m\u001b[0;34m\u001b[0m\u001b[0;34m\u001b[0m\u001b[0m\n\u001b[1;32m      2\u001b[0m \u001b[0;32mif\u001b[0m \u001b[0myaş\u001b[0m \u001b[0;34m<\u001b[0m \u001b[0;36m0\u001b[0m\u001b[0;34m:\u001b[0m\u001b[0;34m\u001b[0m\u001b[0;34m\u001b[0m\u001b[0m\n\u001b[0;32m----> 3\u001b[0;31m     \u001b[0;32mraise\u001b[0m \u001b[0mException\u001b[0m\u001b[0;34m(\u001b[0m\u001b[0;34m\"Yaşınız negatif bir sayı olamaz!\"\u001b[0m\u001b[0;34m)\u001b[0m\u001b[0;34m\u001b[0m\u001b[0;34m\u001b[0m\u001b[0m\n\u001b[0m\u001b[1;32m      4\u001b[0m \u001b[0mprint\u001b[0m\u001b[0;34m(\u001b[0m\u001b[0myaş\u001b[0m\u001b[0;34m)\u001b[0m\u001b[0;34m\u001b[0m\u001b[0;34m\u001b[0m\u001b[0m\n",
            "\u001b[0;31mException\u001b[0m: Yaşınız negatif bir sayı olamaz!"
          ]
        }
      ]
    },
    {
      "cell_type": "markdown",
      "metadata": {
        "id": "R2cdGsXhJktM"
      },
      "source": [
        "## Listeler ve Demetler ( Lists and Tuples )"
      ]
    },
    {
      "cell_type": "code",
      "metadata": {
        "id": "0c-YarJsJktM",
        "scrolled": true,
        "outputId": "ffb5d16c-e157-4808-ac0f-b0e134600b15"
      },
      "source": [
        "liste1 = []\n",
        "liste1 = list()\n",
        "print(liste1, len(liste1))\n",
        "\n",
        "liste1.append(10)\n",
        "print(liste1, len(liste1))\n",
        "\n",
        "liste1.append(20)\n",
        "liste1.append(30)\n",
        "liste1.append(40)\n",
        "print(liste1, len(liste1))"
      ],
      "execution_count": null,
      "outputs": [
        {
          "output_type": "stream",
          "text": [
            "[] 0\n",
            "[10] 1\n",
            "[10, 20, 30, 40] 4\n"
          ],
          "name": "stdout"
        }
      ]
    },
    {
      "cell_type": "code",
      "metadata": {
        "id": "85ZD6NSGJktN",
        "outputId": "1e972a7f-56a1-4480-878c-39968bb8e108"
      },
      "source": [
        "print(liste1[0])\n",
        "print(liste1[2])\n",
        "print(liste1[-1])\n",
        "\n",
        "#liste[başlangıç: bitiş: artış]\n",
        "print(liste1[::-1])"
      ],
      "execution_count": null,
      "outputs": [
        {
          "output_type": "stream",
          "text": [
            "10\n",
            "30\n",
            "40\n",
            "[40, 30, 20, 10]\n"
          ],
          "name": "stdout"
        }
      ]
    },
    {
      "cell_type": "code",
      "metadata": {
        "id": "GV9zQUhzJktO",
        "outputId": "118944c5-f358-4d90-eb0e-82d476001f3c"
      },
      "source": [
        "liste1.insert(5, 100)\n",
        "print(liste1)"
      ],
      "execution_count": null,
      "outputs": [
        {
          "output_type": "stream",
          "text": [
            "[99, 10, 20, 30, 40, 100]\n"
          ],
          "name": "stdout"
        }
      ]
    },
    {
      "cell_type": "code",
      "metadata": {
        "id": "iswTCZO_JktP",
        "outputId": "2443e50f-9b9f-4a86-ad41-3d0c239f88cb"
      },
      "source": [
        "liste1.pop()\n",
        "print(liste1)"
      ],
      "execution_count": null,
      "outputs": [
        {
          "output_type": "stream",
          "text": [
            "[99, 10, 20, 30, 40]\n"
          ],
          "name": "stdout"
        }
      ]
    },
    {
      "cell_type": "code",
      "metadata": {
        "id": "qmDW_vdVJktR",
        "outputId": "7d9a7b42-2498-47d8-add0-64eddc0c67ca"
      },
      "source": [
        "silinen = liste1.pop(0)\n",
        "print(liste1, silinen)"
      ],
      "execution_count": null,
      "outputs": [
        {
          "output_type": "stream",
          "text": [
            "[10, 20, 30, 40] 99\n"
          ],
          "name": "stdout"
        }
      ]
    },
    {
      "cell_type": "code",
      "metadata": {
        "id": "Blji52wAJktR",
        "outputId": "338ddb22-f329-44be-97bb-cab92cc63e02"
      },
      "source": [
        "liste1.remove(30)\n",
        "print(liste1)"
      ],
      "execution_count": null,
      "outputs": [
        {
          "output_type": "stream",
          "text": [
            "[10, 20, 40]\n"
          ],
          "name": "stdout"
        }
      ]
    },
    {
      "cell_type": "code",
      "metadata": {
        "id": "nFIyZkc6JktS",
        "outputId": "0fe1d8b4-6ef2-4710-f2c3-cf0f4dbc7147"
      },
      "source": [
        "liste1 = [2, 0, 1, 7]\n",
        "liste2 = [4, 3, 2, 8]\n",
        "print(liste1, liste2)\n",
        "\n",
        "liste1.extend(liste2)\n",
        "print(liste1)"
      ],
      "execution_count": null,
      "outputs": [
        {
          "output_type": "stream",
          "text": [
            "[2, 0, 1, 7] [4, 3, 2, 8]\n",
            "[2, 0, 1, 7, 4, 3, 2, 8]\n"
          ],
          "name": "stdout"
        }
      ]
    },
    {
      "cell_type": "code",
      "metadata": {
        "id": "mtY-opU2JktT",
        "outputId": "cf74dd71-7b6b-4867-d01b-891d857556e4"
      },
      "source": [
        "liste1 = sorted(liste1)\n",
        "print(liste1)"
      ],
      "execution_count": null,
      "outputs": [
        {
          "output_type": "stream",
          "text": [
            "[0, 1, 2, 2, 3, 4, 7, 8]\n"
          ],
          "name": "stdout"
        }
      ]
    },
    {
      "cell_type": "code",
      "metadata": {
        "id": "iWKGSMNrJktX"
      },
      "source": [
        "liste1.sort()\n",
        "print(liste1)"
      ],
      "execution_count": null,
      "outputs": []
    },
    {
      "cell_type": "code",
      "metadata": {
        "id": "ZiU2q5dkJktY",
        "outputId": "f58d5c1d-a148-4069-b8a3-5c65a657b6ba"
      },
      "source": [
        "liste1 = [\"Elma\", \"Armut\", \"Tilki\", \"Kuş\", \"Armut\", \"Çiçek\"]\n",
        "index = liste1.index(input(\"Aranacak kelime:\"))\n",
        "print(index)"
      ],
      "execution_count": null,
      "outputs": [
        {
          "output_type": "stream",
          "text": [
            "Aranacak kelime: Tilki\n"
          ],
          "name": "stdin"
        },
        {
          "output_type": "stream",
          "text": [
            "2\n"
          ],
          "name": "stdout"
        }
      ]
    },
    {
      "cell_type": "code",
      "metadata": {
        "id": "7NIlPY-fJktZ",
        "outputId": "81ec1ff4-d821-4094-a548-bf5e9b22b677"
      },
      "source": [
        "liste1 = [\"Elma\", \"Armut\", \"Tilki\", \"Kuş\", \"Armut\", \"Çiçek\"]\n",
        "sayaç = liste1.count(input(\"Sayısını bulunacak kelime:\"))\n",
        "print(sayaç)"
      ],
      "execution_count": null,
      "outputs": [
        {
          "output_type": "stream",
          "text": [
            "Sayısını bulunacak kelime: Armut\n"
          ],
          "name": "stdin"
        },
        {
          "output_type": "stream",
          "text": [
            "2\n"
          ],
          "name": "stdout"
        }
      ]
    },
    {
      "cell_type": "code",
      "metadata": {
        "id": "P73rgRh5Jkta",
        "outputId": "87d6a3ee-b3f7-441b-cd4a-d80a56e220cb"
      },
      "source": [
        "yeni_liste = liste1\n",
        "print(yeni_liste)"
      ],
      "execution_count": null,
      "outputs": [
        {
          "output_type": "stream",
          "text": [
            "['Elma', 'Armut', 'Tilki', 'Kuş', 'Armut', 'Çiçek']\n"
          ],
          "name": "stdout"
        }
      ]
    },
    {
      "cell_type": "code",
      "metadata": {
        "id": "G3pXgkgfJktb",
        "outputId": "869db2b2-c4a8-4bc1-95e9-8c923b66ca59"
      },
      "source": [
        "yeni_liste[0] = \"Muz\"\n",
        "print(yeni_liste)\n",
        "print(liste1)\n",
        "\n",
        "print(id(yeni_liste))\n",
        "print(id(liste1))"
      ],
      "execution_count": null,
      "outputs": [
        {
          "output_type": "stream",
          "text": [
            "['Muz', 'Armut', 'Tilki', 'Kuş', 'Armut', 'Çiçek']\n",
            "['Muz', 'Armut', 'Tilki', 'Kuş', 'Armut', 'Çiçek']\n",
            "4608013312\n",
            "4608013312\n"
          ],
          "name": "stdout"
        }
      ]
    },
    {
      "cell_type": "code",
      "metadata": {
        "id": "OfbK-RcJJktc"
      },
      "source": [
        "liste1 = [\"Elma\", \"Armut\", \"Tilki\", \"Kuş\", \"Armut\", \"Çiçek\"]\n",
        "yeni_liste = liste1.copy()"
      ],
      "execution_count": null,
      "outputs": []
    },
    {
      "cell_type": "code",
      "metadata": {
        "id": "82GNZr_pJktd",
        "outputId": "c1e8ef83-84c8-4a81-f9d5-0bd39861fa62"
      },
      "source": [
        "yeni_liste[0] = \"Muz\"\n",
        "print(yeni_liste)\n",
        "print(liste1)\n",
        "\n",
        "print(id(yeni_liste))\n",
        "print(id(liste1))"
      ],
      "execution_count": null,
      "outputs": [
        {
          "output_type": "stream",
          "text": [
            "['Muz', 'Armut', 'Tilki', 'Kuş', 'Armut', 'Çiçek']\n",
            "['Elma', 'Armut', 'Tilki', 'Kuş', 'Armut', 'Çiçek']\n",
            "4608034880\n",
            "4582043264\n"
          ],
          "name": "stdout"
        }
      ]
    },
    {
      "cell_type": "code",
      "metadata": {
        "id": "Gwn-FJsGJkte"
      },
      "source": [
        "liste3 = [\"John\", 1, \"Doe\", 2.56, \"Oğuz\", (55+5j), \"ATAY\"]"
      ],
      "execution_count": null,
      "outputs": []
    },
    {
      "cell_type": "code",
      "metadata": {
        "id": "llU04U0DJktf",
        "outputId": "6b00f46d-99a4-485a-e301-32d2717d151d"
      },
      "source": [
        "for i in liste3:\n",
        "    print(i, type(i))"
      ],
      "execution_count": null,
      "outputs": [
        {
          "output_type": "stream",
          "text": [
            "John <class 'str'>\n",
            "1 <class 'int'>\n",
            "Doe <class 'str'>\n",
            "2.56 <class 'float'>\n",
            "Oğuz <class 'str'>\n",
            "(55+5j) <class 'complex'>\n",
            "ATAY <class 'str'>\n"
          ],
          "name": "stdout"
        }
      ]
    },
    {
      "cell_type": "code",
      "metadata": {
        "id": "LPNLqjqJJktg",
        "outputId": "9f861373-2f01-4259-e0e2-831f153049b5"
      },
      "source": [
        "matrix = [\n",
        "    [1, 2, 3, 4],\n",
        "    [9, 8, 7, 6],\n",
        "    [0, 6, 5, 2]\n",
        "]\n",
        "\n",
        "for satır in matrix:\n",
        "    for sütun in satır:\n",
        "        print(sütun, end=\" \")\n",
        "    print()"
      ],
      "execution_count": null,
      "outputs": [
        {
          "output_type": "stream",
          "text": [
            "1 2 3 4 \n",
            "9 8 7 6 \n",
            "0 6 5 2 \n"
          ],
          "name": "stdout"
        }
      ]
    },
    {
      "cell_type": "code",
      "metadata": {
        "id": "5DymGnTAJkth",
        "scrolled": true,
        "outputId": "5f4761bd-93ea-4311-9170-86ae6138c7fc"
      },
      "source": [
        "demet = ()\n",
        "demet = tuple()\n",
        "demet = (10, 20, 25, 30, 35, 40, 35)\n",
        "\n",
        "index = demet.index(25)\n",
        "print(index)\n",
        "\n",
        "sayaç = demet.count(20)\n",
        "print(sayaç)\n",
        "\n",
        "help(tuple())"
      ],
      "execution_count": null,
      "outputs": [
        {
          "output_type": "stream",
          "text": [
            "2\n",
            "1\n",
            "Help on tuple object:\n",
            "\n",
            "class tuple(object)\n",
            " |  tuple(iterable=(), /)\n",
            " |  \n",
            " |  Built-in immutable sequence.\n",
            " |  \n",
            " |  If no argument is given, the constructor returns an empty tuple.\n",
            " |  If iterable is specified the tuple is initialized from iterable's items.\n",
            " |  \n",
            " |  If the argument is a tuple, the return value is the same object.\n",
            " |  \n",
            " |  Built-in subclasses:\n",
            " |      asyncgen_hooks\n",
            " |      UnraisableHookArgs\n",
            " |  \n",
            " |  Methods defined here:\n",
            " |  \n",
            " |  __add__(self, value, /)\n",
            " |      Return self+value.\n",
            " |  \n",
            " |  __contains__(self, key, /)\n",
            " |      Return key in self.\n",
            " |  \n",
            " |  __eq__(self, value, /)\n",
            " |      Return self==value.\n",
            " |  \n",
            " |  __ge__(self, value, /)\n",
            " |      Return self>=value.\n",
            " |  \n",
            " |  __getattribute__(self, name, /)\n",
            " |      Return getattr(self, name).\n",
            " |  \n",
            " |  __getitem__(self, key, /)\n",
            " |      Return self[key].\n",
            " |  \n",
            " |  __getnewargs__(self, /)\n",
            " |  \n",
            " |  __gt__(self, value, /)\n",
            " |      Return self>value.\n",
            " |  \n",
            " |  __hash__(self, /)\n",
            " |      Return hash(self).\n",
            " |  \n",
            " |  __iter__(self, /)\n",
            " |      Implement iter(self).\n",
            " |  \n",
            " |  __le__(self, value, /)\n",
            " |      Return self<=value.\n",
            " |  \n",
            " |  __len__(self, /)\n",
            " |      Return len(self).\n",
            " |  \n",
            " |  __lt__(self, value, /)\n",
            " |      Return self<value.\n",
            " |  \n",
            " |  __mul__(self, value, /)\n",
            " |      Return self*value.\n",
            " |  \n",
            " |  __ne__(self, value, /)\n",
            " |      Return self!=value.\n",
            " |  \n",
            " |  __repr__(self, /)\n",
            " |      Return repr(self).\n",
            " |  \n",
            " |  __rmul__(self, value, /)\n",
            " |      Return value*self.\n",
            " |  \n",
            " |  count(self, value, /)\n",
            " |      Return number of occurrences of value.\n",
            " |  \n",
            " |  index(self, value, start=0, stop=9223372036854775807, /)\n",
            " |      Return first index of value.\n",
            " |      \n",
            " |      Raises ValueError if the value is not present.\n",
            " |  \n",
            " |  ----------------------------------------------------------------------\n",
            " |  Static methods defined here:\n",
            " |  \n",
            " |  __new__(*args, **kwargs) from builtins.type\n",
            " |      Create and return a new object.  See help(type) for accurate signature.\n",
            "\n"
          ],
          "name": "stdout"
        }
      ]
    },
    {
      "cell_type": "markdown",
      "metadata": {
        "id": "sip1s0KPJkth"
      },
      "source": [
        "### Matematiksel Fonksiyonlar ( Mathematical Functions ) "
      ]
    },
    {
      "cell_type": "code",
      "metadata": {
        "id": "lAbjCA7PJkti",
        "outputId": "23afa930-36b5-4020-89c1-1733d43aa52f"
      },
      "source": [
        "abs_number = abs(-10)\n",
        "print(abs_number)\n",
        "\n",
        "divmod_number = divmod(20, 7)\n",
        "print(divmod_number)\n",
        "# 20 // 7, 20 % 7"
      ],
      "execution_count": null,
      "outputs": [
        {
          "output_type": "stream",
          "text": [
            "10\n",
            "(2, 6)\n"
          ],
          "name": "stdout"
        }
      ]
    },
    {
      "cell_type": "code",
      "metadata": {
        "id": "kFV9DgO5Jktk",
        "outputId": "3e2d2965-9e26-41c1-d404-23c9042f936d"
      },
      "source": [
        "from random import randint\n",
        "\n",
        "sayı_listesi = []\n",
        "for i in range(15):\n",
        "    sayı_listesi.append(randint(-10, 10))\n",
        "\n",
        "print(sayı_listesi)"
      ],
      "execution_count": null,
      "outputs": [
        {
          "output_type": "stream",
          "text": [
            "[1, 3, -1, -9, 6, -3, -6, -5, -8, 9, -9, -10, 1, -4, 10]\n"
          ],
          "name": "stdout"
        }
      ]
    },
    {
      "cell_type": "code",
      "metadata": {
        "id": "-GV1Uph2Jktl",
        "outputId": "84c82494-aa3d-4e6f-870e-0df2fc726a39"
      },
      "source": [
        "string = \"{} fonksiyonunun çıktısı => {}\"\n",
        "\n",
        "print(\"Liste: {}\".format(sayı_listesi))\n",
        "print(string.format(\"max()\", max(sayı_listesi)))\n",
        "print(string.format(\"min()\", min(sayı_listesi)))\n",
        "print(string.format(\"sum()\", sum(sayı_listesi)))"
      ],
      "execution_count": null,
      "outputs": [
        {
          "output_type": "stream",
          "text": [
            "Liste: [1, 3, -1, -9, 6, -3, -6, -5, -8, 9, -9, -10, 1, -4, 10]\n",
            "max() fonksiyonunun çıktısı => 10\n",
            "min() fonksiyonunun çıktısı => -10\n",
            "sum() fonksiyonunun çıktısı => -25\n"
          ],
          "name": "stdout"
        }
      ]
    },
    {
      "cell_type": "markdown",
      "metadata": {
        "id": "9whjWWUdJktn"
      },
      "source": [
        "## Sözlükler ( Dictionaries )"
      ]
    },
    {
      "cell_type": "code",
      "metadata": {
        "id": "X6fvhH0_Jktn",
        "outputId": "11136a42-4a8a-4293-fde9-bf192fb1ccb0"
      },
      "source": [
        "sozluk = {}\n",
        "sozluk = dict()\n",
        "\n",
        "sozluk['Elma'] = 'Apple'\n",
        "sozluk['Armut'] = 'Pear'\n",
        "sozluk['Tilki'] = 'Fox'\n",
        "\n",
        "print(sozluk)"
      ],
      "execution_count": null,
      "outputs": [
        {
          "output_type": "stream",
          "text": [
            "{'Elma': 'Apple', 'Armut': 'Pear', 'Tilki': 'Fox'}\n"
          ],
          "name": "stdout"
        }
      ]
    },
    {
      "cell_type": "code",
      "metadata": {
        "id": "YxJd-yx4Jktp",
        "outputId": "b0171a0f-3b05-4eba-f493-cb9d8b396a10"
      },
      "source": [
        "sozluk_keys = sozluk.keys()\n",
        "print(sozluk_keys)\n",
        "\n",
        "sozluk_values = sozluk.values()\n",
        "print(sozluk_values)"
      ],
      "execution_count": null,
      "outputs": [
        {
          "output_type": "stream",
          "text": [
            "dict_keys(['Elma', 'Armut', 'Tilki'])\n",
            "dict_values(['Apple', 'Pear', 'Fox'])\n"
          ],
          "name": "stdout"
        }
      ]
    },
    {
      "cell_type": "code",
      "metadata": {
        "id": "eLn08kZQJktq",
        "outputId": "76e0c1fe-e2e4-4787-8ecb-b156eaedaf01"
      },
      "source": [
        "\"\"\"\n",
        "for key in sozluk.keys():\n",
        "    pass\n",
        "    \n",
        "for value in sozluk.values():\n",
        "    pass\n",
        "\"\"\"\n",
        "print(sozluk.items())\n",
        "for key, value in sozluk.items():\n",
        "    print(key, value)"
      ],
      "execution_count": null,
      "outputs": [
        {
          "output_type": "stream",
          "text": [
            "dict_items([('Elma', 'Apple'), ('Armut', 'Pear'), ('Tilki', 'Fox')])\n",
            "Elma Apple\n",
            "Armut Pear\n",
            "Tilki Fox\n"
          ],
          "name": "stdout"
        }
      ]
    },
    {
      "cell_type": "code",
      "metadata": {
        "id": "lXG5JnSTJktr",
        "outputId": "980d8b49-48ab-41dc-df7e-733224693257"
      },
      "source": [
        "print(sozluk['Armut'])\n",
        "print(sozluk['Üzüm'])"
      ],
      "execution_count": null,
      "outputs": [
        {
          "output_type": "stream",
          "text": [
            "Pear\n"
          ],
          "name": "stdout"
        },
        {
          "output_type": "error",
          "ename": "KeyError",
          "evalue": "'Üzüm'",
          "traceback": [
            "\u001b[0;31m---------------------------------------------------------------------------\u001b[0m",
            "\u001b[0;31mKeyError\u001b[0m                                  Traceback (most recent call last)",
            "\u001b[0;32m<ipython-input-153-7a29f718c7cd>\u001b[0m in \u001b[0;36m<module>\u001b[0;34m\u001b[0m\n\u001b[1;32m      1\u001b[0m \u001b[0mprint\u001b[0m\u001b[0;34m(\u001b[0m\u001b[0msozluk\u001b[0m\u001b[0;34m[\u001b[0m\u001b[0;34m'Armut'\u001b[0m\u001b[0;34m]\u001b[0m\u001b[0;34m)\u001b[0m\u001b[0;34m\u001b[0m\u001b[0;34m\u001b[0m\u001b[0m\n\u001b[0;32m----> 2\u001b[0;31m \u001b[0mprint\u001b[0m\u001b[0;34m(\u001b[0m\u001b[0msozluk\u001b[0m\u001b[0;34m[\u001b[0m\u001b[0;34m'Üzüm'\u001b[0m\u001b[0;34m]\u001b[0m\u001b[0;34m)\u001b[0m\u001b[0;34m\u001b[0m\u001b[0;34m\u001b[0m\u001b[0m\n\u001b[0m",
            "\u001b[0;31mKeyError\u001b[0m: 'Üzüm'"
          ]
        }
      ]
    },
    {
      "cell_type": "code",
      "metadata": {
        "id": "zuETRKKKJktr",
        "outputId": "2eeebfec-9a61-47b7-8fde-40f961cdf81a"
      },
      "source": [
        "print(sozluk.get('ÜzümÜ'))"
      ],
      "execution_count": null,
      "outputs": [
        {
          "output_type": "stream",
          "text": [
            "None\n"
          ],
          "name": "stdout"
        }
      ]
    },
    {
      "cell_type": "code",
      "metadata": {
        "id": "vq5Nm1vMJktt",
        "outputId": "92ebb570-451b-4687-f474-5d32c1309631"
      },
      "source": [
        "sozluk.setdefault('Elma', 'Malus')"
      ],
      "execution_count": null,
      "outputs": [
        {
          "output_type": "execute_result",
          "data": {
            "text/plain": [
              "'Apple'"
            ]
          },
          "metadata": {
            "tags": []
          },
          "execution_count": 156
        }
      ]
    },
    {
      "cell_type": "code",
      "metadata": {
        "id": "pRETlCp_Jktt",
        "outputId": "0a4a4764-953a-4fe9-84f9-a10d4da1a700"
      },
      "source": [
        "sozluk.setdefault('Üzüm', 'Grape')\n"
      ],
      "execution_count": null,
      "outputs": [
        {
          "output_type": "execute_result",
          "data": {
            "text/plain": [
              "'Grape'"
            ]
          },
          "metadata": {
            "tags": []
          },
          "execution_count": 159
        }
      ]
    },
    {
      "cell_type": "markdown",
      "metadata": {
        "id": "vcwht9vhJktw"
      },
      "source": [
        "## Kümeler ve Dondurulmuş Kümeler ( Sets and Frozensets )"
      ]
    },
    {
      "cell_type": "code",
      "metadata": {
        "id": "ADdrGsvcJktw",
        "outputId": "72845c1c-2c00-4eea-96ae-cb5652b0e80e"
      },
      "source": [
        "küme = set()\n",
        "\n",
        "küme.add(1)\n",
        "küme.add(2)\n",
        "küme.add(3)\n",
        "küme.add(3)\n",
        "küme.add(3)\n",
        "küme.add(2)\n",
        "\n",
        "print(küme)"
      ],
      "execution_count": null,
      "outputs": [
        {
          "output_type": "stream",
          "text": [
            "{1, 2, 3}\n"
          ],
          "name": "stdout"
        }
      ]
    },
    {
      "cell_type": "code",
      "metadata": {
        "id": "g0IqVQc0Jktx",
        "outputId": "ff7f3b3d-95bb-473c-c53b-6be5233d8d79"
      },
      "source": [
        "liste = [10, 12, 1, 0, 2, 3, 4, 4, 2, 3, 0, 2, 1, 5]\n",
        "küme = set(liste)\n",
        "\n",
        "print(küme)"
      ],
      "execution_count": null,
      "outputs": [
        {
          "output_type": "stream",
          "text": [
            "{0, 1, 2, 3, 4, 5, 10, 12}\n"
          ],
          "name": "stdout"
        }
      ]
    },
    {
      "cell_type": "code",
      "metadata": {
        "id": "BG4yCaSjJkty",
        "outputId": "03670646-ace7-4d17-d612-8348b94c4aab"
      },
      "source": [
        "küme.remove(10)\n",
        "print(küme)"
      ],
      "execution_count": null,
      "outputs": [
        {
          "output_type": "stream",
          "text": [
            "{0, 1, 2, 3, 4, 5, 12}\n"
          ],
          "name": "stdout"
        }
      ]
    },
    {
      "cell_type": "code",
      "metadata": {
        "id": "mEKKQxVdJktz",
        "outputId": "4b7bc998-cc26-4a55-c1c5-aea0d302a10b"
      },
      "source": [
        "liste1 = [10, 100, 50, 30]\n",
        "liste2 = [20, 50, 90, 30]\n",
        "\n",
        "küme1 = set(liste1)\n",
        "küme2 = set(liste2)\n",
        "\n",
        "print(\"Kesişim kümesi: \", küme1.intersection(küme2))\n",
        "print(\"Birleşim kümesi: \", küme1.union(küme2))\n",
        "print(\"Küme1: \", küme1)"
      ],
      "execution_count": null,
      "outputs": [
        {
          "output_type": "stream",
          "text": [
            "Kesişim kümesi:  {50, 30}\n",
            "Birleşim kümesi:  {100, 10, 50, 20, 90, 30}\n",
            "Küme1:  {10, 100, 50, 30}\n"
          ],
          "name": "stdout"
        }
      ]
    },
    {
      "cell_type": "markdown",
      "metadata": {
        "id": "K8mNVP1ZJkt0"
      },
      "source": [
        "## Üç büyükler"
      ]
    },
    {
      "cell_type": "code",
      "metadata": {
        "id": "gl-dAUtPJkt0",
        "outputId": "b0bee332-bfa6-4761-e6a3-10dad5278ba0"
      },
      "source": [
        "help(list)"
      ],
      "execution_count": null,
      "outputs": [
        {
          "output_type": "stream",
          "text": [
            "Help on class list in module builtins:\n",
            "\n",
            "class list(object)\n",
            " |  list(iterable=(), /)\n",
            " |  \n",
            " |  Built-in mutable sequence.\n",
            " |  \n",
            " |  If no argument is given, the constructor creates a new empty list.\n",
            " |  The argument must be an iterable if specified.\n",
            " |  \n",
            " |  Methods defined here:\n",
            " |  \n",
            " |  __add__(self, value, /)\n",
            " |      Return self+value.\n",
            " |  \n",
            " |  __contains__(self, key, /)\n",
            " |      Return key in self.\n",
            " |  \n",
            " |  __delitem__(self, key, /)\n",
            " |      Delete self[key].\n",
            " |  \n",
            " |  __eq__(self, value, /)\n",
            " |      Return self==value.\n",
            " |  \n",
            " |  __ge__(self, value, /)\n",
            " |      Return self>=value.\n",
            " |  \n",
            " |  __getattribute__(self, name, /)\n",
            " |      Return getattr(self, name).\n",
            " |  \n",
            " |  __getitem__(...)\n",
            " |      x.__getitem__(y) <==> x[y]\n",
            " |  \n",
            " |  __gt__(self, value, /)\n",
            " |      Return self>value.\n",
            " |  \n",
            " |  __iadd__(self, value, /)\n",
            " |      Implement self+=value.\n",
            " |  \n",
            " |  __imul__(self, value, /)\n",
            " |      Implement self*=value.\n",
            " |  \n",
            " |  __init__(self, /, *args, **kwargs)\n",
            " |      Initialize self.  See help(type(self)) for accurate signature.\n",
            " |  \n",
            " |  __iter__(self, /)\n",
            " |      Implement iter(self).\n",
            " |  \n",
            " |  __le__(self, value, /)\n",
            " |      Return self<=value.\n",
            " |  \n",
            " |  __len__(self, /)\n",
            " |      Return len(self).\n",
            " |  \n",
            " |  __lt__(self, value, /)\n",
            " |      Return self<value.\n",
            " |  \n",
            " |  __mul__(self, value, /)\n",
            " |      Return self*value.\n",
            " |  \n",
            " |  __ne__(self, value, /)\n",
            " |      Return self!=value.\n",
            " |  \n",
            " |  __repr__(self, /)\n",
            " |      Return repr(self).\n",
            " |  \n",
            " |  __reversed__(self, /)\n",
            " |      Return a reverse iterator over the list.\n",
            " |  \n",
            " |  __rmul__(self, value, /)\n",
            " |      Return value*self.\n",
            " |  \n",
            " |  __setitem__(self, key, value, /)\n",
            " |      Set self[key] to value.\n",
            " |  \n",
            " |  __sizeof__(self, /)\n",
            " |      Return the size of the list in memory, in bytes.\n",
            " |  \n",
            " |  append(self, object, /)\n",
            " |      Append object to the end of the list.\n",
            " |  \n",
            " |  clear(self, /)\n",
            " |      Remove all items from list.\n",
            " |  \n",
            " |  copy(self, /)\n",
            " |      Return a shallow copy of the list.\n",
            " |  \n",
            " |  count(self, value, /)\n",
            " |      Return number of occurrences of value.\n",
            " |  \n",
            " |  extend(self, iterable, /)\n",
            " |      Extend list by appending elements from the iterable.\n",
            " |  \n",
            " |  index(self, value, start=0, stop=9223372036854775807, /)\n",
            " |      Return first index of value.\n",
            " |      \n",
            " |      Raises ValueError if the value is not present.\n",
            " |  \n",
            " |  insert(self, index, object, /)\n",
            " |      Insert object before index.\n",
            " |  \n",
            " |  pop(self, index=-1, /)\n",
            " |      Remove and return item at index (default last).\n",
            " |      \n",
            " |      Raises IndexError if list is empty or index is out of range.\n",
            " |  \n",
            " |  remove(self, value, /)\n",
            " |      Remove first occurrence of value.\n",
            " |      \n",
            " |      Raises ValueError if the value is not present.\n",
            " |  \n",
            " |  reverse(self, /)\n",
            " |      Reverse *IN PLACE*.\n",
            " |  \n",
            " |  sort(self, /, *, key=None, reverse=False)\n",
            " |      Sort the list in ascending order and return None.\n",
            " |      \n",
            " |      The sort is in-place (i.e. the list itself is modified) and stable (i.e. the\n",
            " |      order of two equal elements is maintained).\n",
            " |      \n",
            " |      If a key function is given, apply it once to each list item and sort them,\n",
            " |      ascending or descending, according to their function values.\n",
            " |      \n",
            " |      The reverse flag can be set to sort in descending order.\n",
            " |  \n",
            " |  ----------------------------------------------------------------------\n",
            " |  Static methods defined here:\n",
            " |  \n",
            " |  __new__(*args, **kwargs) from builtins.type\n",
            " |      Create and return a new object.  See help(type) for accurate signature.\n",
            " |  \n",
            " |  ----------------------------------------------------------------------\n",
            " |  Data and other attributes defined here:\n",
            " |  \n",
            " |  __hash__ = None\n",
            "\n"
          ],
          "name": "stdout"
        }
      ]
    },
    {
      "cell_type": "code",
      "metadata": {
        "id": "jD6ExYi1Jkt1",
        "outputId": "8f3e9a7d-ab63-4dc4-85bb-9735282e8de8"
      },
      "source": [
        "liste = sorted([\"Ayşe\", \"Ahmet\",\"Mehmet\", \"Nuri\", \"Fatma\", \"Binnur\"])\n",
        "print(*enumerate(liste))"
      ],
      "execution_count": null,
      "outputs": [
        {
          "output_type": "stream",
          "text": [
            "(0, 'Ahmet') (1, 'Ayşe') (2, 'Binnur') (3, 'Fatma') (4, 'Mehmet') (5, 'Nuri')\n"
          ],
          "name": "stdout"
        }
      ]
    },
    {
      "cell_type": "code",
      "metadata": {
        "id": "gAvms22GJkt3",
        "outputId": "b435abe7-6cef-4359-cb14-b046b88c56be"
      },
      "source": [
        "for no, isim in enumerate(liste, -5):\n",
        "    print(no, isim)"
      ],
      "execution_count": null,
      "outputs": [
        {
          "output_type": "stream",
          "text": [
            "-5 Ahmet\n",
            "-4 Ayşe\n",
            "-3 Binnur\n",
            "-2 Fatma\n",
            "-1 Mehmet\n",
            "0 Nuri\n"
          ],
          "name": "stdout"
        }
      ]
    },
    {
      "cell_type": "code",
      "metadata": {
        "id": "PUxB59PtJkt4",
        "outputId": "9bd0324c-1efd-4c59-be5f-ba38d1ea4d4c"
      },
      "source": [
        "dir()"
      ],
      "execution_count": null,
      "outputs": [
        {
          "output_type": "execute_result",
          "data": {
            "text/plain": [
              "['In',\n",
              " 'Out',\n",
              " '_',\n",
              " '_1',\n",
              " '_10',\n",
              " '_11',\n",
              " '_12',\n",
              " '_13',\n",
              " '_14',\n",
              " '_15',\n",
              " '_156',\n",
              " '_157',\n",
              " '_158',\n",
              " '_159',\n",
              " '_16',\n",
              " '_168',\n",
              " '_17',\n",
              " '_19',\n",
              " '_2',\n",
              " '_21',\n",
              " '_23',\n",
              " '_26',\n",
              " '_27',\n",
              " '_28',\n",
              " '_29',\n",
              " '_3',\n",
              " '_4',\n",
              " '_5',\n",
              " '_51',\n",
              " '_6',\n",
              " '_63',\n",
              " '_64',\n",
              " '_65',\n",
              " '_66',\n",
              " '_67',\n",
              " '_68',\n",
              " '_69',\n",
              " '_7',\n",
              " '_70',\n",
              " '_71',\n",
              " '_72',\n",
              " '_8',\n",
              " '_9',\n",
              " '_93',\n",
              " '__',\n",
              " '___',\n",
              " '__builtin__',\n",
              " '__builtins__',\n",
              " '__doc__',\n",
              " '__loader__',\n",
              " '__name__',\n",
              " '__package__',\n",
              " '__spec__',\n",
              " '_dh',\n",
              " '_i',\n",
              " '_i1',\n",
              " '_i10',\n",
              " '_i100',\n",
              " '_i101',\n",
              " '_i102',\n",
              " '_i103',\n",
              " '_i104',\n",
              " '_i105',\n",
              " '_i106',\n",
              " '_i107',\n",
              " '_i108',\n",
              " '_i109',\n",
              " '_i11',\n",
              " '_i110',\n",
              " '_i111',\n",
              " '_i112',\n",
              " '_i113',\n",
              " '_i114',\n",
              " '_i115',\n",
              " '_i116',\n",
              " '_i117',\n",
              " '_i118',\n",
              " '_i119',\n",
              " '_i12',\n",
              " '_i120',\n",
              " '_i121',\n",
              " '_i122',\n",
              " '_i123',\n",
              " '_i124',\n",
              " '_i125',\n",
              " '_i126',\n",
              " '_i127',\n",
              " '_i128',\n",
              " '_i129',\n",
              " '_i13',\n",
              " '_i130',\n",
              " '_i131',\n",
              " '_i132',\n",
              " '_i133',\n",
              " '_i134',\n",
              " '_i135',\n",
              " '_i136',\n",
              " '_i137',\n",
              " '_i138',\n",
              " '_i139',\n",
              " '_i14',\n",
              " '_i140',\n",
              " '_i141',\n",
              " '_i142',\n",
              " '_i143',\n",
              " '_i144',\n",
              " '_i145',\n",
              " '_i146',\n",
              " '_i147',\n",
              " '_i148',\n",
              " '_i149',\n",
              " '_i15',\n",
              " '_i150',\n",
              " '_i151',\n",
              " '_i152',\n",
              " '_i153',\n",
              " '_i154',\n",
              " '_i155',\n",
              " '_i156',\n",
              " '_i157',\n",
              " '_i158',\n",
              " '_i159',\n",
              " '_i16',\n",
              " '_i160',\n",
              " '_i161',\n",
              " '_i162',\n",
              " '_i163',\n",
              " '_i164',\n",
              " '_i165',\n",
              " '_i166',\n",
              " '_i167',\n",
              " '_i168',\n",
              " '_i169',\n",
              " '_i17',\n",
              " '_i18',\n",
              " '_i19',\n",
              " '_i2',\n",
              " '_i20',\n",
              " '_i21',\n",
              " '_i22',\n",
              " '_i23',\n",
              " '_i24',\n",
              " '_i25',\n",
              " '_i26',\n",
              " '_i27',\n",
              " '_i28',\n",
              " '_i29',\n",
              " '_i3',\n",
              " '_i30',\n",
              " '_i31',\n",
              " '_i32',\n",
              " '_i33',\n",
              " '_i34',\n",
              " '_i35',\n",
              " '_i36',\n",
              " '_i37',\n",
              " '_i38',\n",
              " '_i39',\n",
              " '_i4',\n",
              " '_i40',\n",
              " '_i41',\n",
              " '_i42',\n",
              " '_i43',\n",
              " '_i44',\n",
              " '_i45',\n",
              " '_i46',\n",
              " '_i47',\n",
              " '_i48',\n",
              " '_i49',\n",
              " '_i5',\n",
              " '_i50',\n",
              " '_i51',\n",
              " '_i52',\n",
              " '_i53',\n",
              " '_i54',\n",
              " '_i55',\n",
              " '_i56',\n",
              " '_i57',\n",
              " '_i58',\n",
              " '_i59',\n",
              " '_i6',\n",
              " '_i60',\n",
              " '_i61',\n",
              " '_i62',\n",
              " '_i63',\n",
              " '_i64',\n",
              " '_i65',\n",
              " '_i66',\n",
              " '_i67',\n",
              " '_i68',\n",
              " '_i69',\n",
              " '_i7',\n",
              " '_i70',\n",
              " '_i71',\n",
              " '_i72',\n",
              " '_i73',\n",
              " '_i74',\n",
              " '_i75',\n",
              " '_i76',\n",
              " '_i77',\n",
              " '_i78',\n",
              " '_i79',\n",
              " '_i8',\n",
              " '_i80',\n",
              " '_i81',\n",
              " '_i82',\n",
              " '_i83',\n",
              " '_i84',\n",
              " '_i85',\n",
              " '_i86',\n",
              " '_i87',\n",
              " '_i88',\n",
              " '_i89',\n",
              " '_i9',\n",
              " '_i90',\n",
              " '_i91',\n",
              " '_i92',\n",
              " '_i93',\n",
              " '_i94',\n",
              " '_i95',\n",
              " '_i96',\n",
              " '_i97',\n",
              " '_i98',\n",
              " '_i99',\n",
              " '_ih',\n",
              " '_ii',\n",
              " '_iii',\n",
              " '_oh',\n",
              " 'a',\n",
              " 'abs_number',\n",
              " 'aranacak_sözcük',\n",
              " 'cümle',\n",
              " 'demet',\n",
              " 'değişken1',\n",
              " 'değişken2',\n",
              " 'divmod_number',\n",
              " 'exit',\n",
              " 'f',\n",
              " 'gerçek_kullanıcı',\n",
              " 'gerçek_şifre',\n",
              " 'get_ipython',\n",
              " 'haftalık_çalışma_saati',\n",
              " 'harf',\n",
              " 'i',\n",
              " 'index',\n",
              " 'isim',\n",
              " 'key',\n",
              " 'keyword',\n",
              " 'küme',\n",
              " 'küme1',\n",
              " 'küme2',\n",
              " 'liste',\n",
              " 'liste1',\n",
              " 'liste2',\n",
              " 'liste3',\n",
              " 'matrix',\n",
              " 'no',\n",
              " 'password',\n",
              " 'quit',\n",
              " 'randint',\n",
              " 'saatlik_ücret',\n",
              " 'satır',\n",
              " 'sayaç',\n",
              " 'sayı1',\n",
              " 'sayı2',\n",
              " 'sayı_listesi',\n",
              " 'silinen',\n",
              " 'sorulan_kullanıcı',\n",
              " 'sorulan_şifre',\n",
              " 'sozluk',\n",
              " 'sozluk_keys',\n",
              " 'sozluk_values',\n",
              " 'string',\n",
              " 'sütun',\n",
              " 'username',\n",
              " 'value',\n",
              " 'yaş',\n",
              " 'yeni_liste']"
            ]
          },
          "metadata": {
            "tags": []
          },
          "execution_count": 169
        }
      ]
    },
    {
      "cell_type": "markdown",
      "metadata": {
        "id": "9xfzMHebJkt4"
      },
      "source": [
        "## Karakter Dizilerinin Methotları ( String Methods )"
      ]
    },
    {
      "cell_type": "code",
      "metadata": {
        "id": "RbUcubFiJkt5"
      },
      "source": [
        "string = 'Hikmet ÖZBEN'"
      ],
      "execution_count": null,
      "outputs": []
    },
    {
      "cell_type": "code",
      "metadata": {
        "id": "11EJ2W5xJkt6",
        "outputId": "610d4bc0-3882-468e-83b7-8278fb166113"
      },
      "source": [
        "print(string[0])"
      ],
      "execution_count": null,
      "outputs": [
        {
          "output_type": "stream",
          "text": [
            "H\n"
          ],
          "name": "stdout"
        }
      ]
    },
    {
      "cell_type": "code",
      "metadata": {
        "id": "QHzrJbz-Jkt7",
        "outputId": "ec74ee2a-0fc4-4c93-cbac-af29666ef6b4"
      },
      "source": [
        "print(string[0:4])\n",
        "print(string[0:len(string)])\n",
        "print(string[0:len(string):2])"
      ],
      "execution_count": null,
      "outputs": [
        {
          "output_type": "stream",
          "text": [
            "Hikm\n",
            "Hikmet ÖZBEN\n",
            "Hke ZE\n"
          ],
          "name": "stdout"
        }
      ]
    },
    {
      "cell_type": "code",
      "metadata": {
        "id": "blONGE1PJkt_",
        "outputId": "934ac12d-18a3-4b99-92b9-621cc36e8df0"
      },
      "source": [
        "print(string.lower())\n",
        "print(string.upper())"
      ],
      "execution_count": null,
      "outputs": [
        {
          "output_type": "stream",
          "text": [
            "hikmet özben\n",
            "HIKMET ÖZBEN\n"
          ],
          "name": "stdout"
        }
      ]
    },
    {
      "cell_type": "code",
      "metadata": {
        "id": "5W0OEZHhJkuA",
        "outputId": "275efdb2-773d-4b16-b7fd-36af336a2f6e"
      },
      "source": [
        "print(string)\n",
        "\n",
        "string = string.replace('ÖZBEN', 'BENOL')\n",
        "print(string)\n",
        "\n",
        "string = string.replace('Hikmet', 'Turgut')\n",
        "print(string)"
      ],
      "execution_count": null,
      "outputs": [
        {
          "output_type": "stream",
          "text": [
            "Hikmet ÖZBEN\n",
            "Hikmet BENOL\n",
            "Turgut BENOL\n"
          ],
          "name": "stdout"
        }
      ]
    },
    {
      "cell_type": "code",
      "metadata": {
        "id": "7e5Q7Q-pJkuB",
        "outputId": "d255a331-29b5-4035-ed39-22cbf112c173"
      },
      "source": [
        "print(\"A\".islower())\n",
        "print(\"A\".isupper())"
      ],
      "execution_count": null,
      "outputs": [
        {
          "output_type": "stream",
          "text": [
            "False\n",
            "True\n"
          ],
          "name": "stdout"
        }
      ]
    },
    {
      "cell_type": "code",
      "metadata": {
        "id": "R5eCZqgcJkuD",
        "outputId": "ba8c3988-0b04-4da0-b03a-a9c3363732f4"
      },
      "source": [
        "print(string.startswith('Hikmet'))\n",
        "print(string.endswith('OL'))"
      ],
      "execution_count": null,
      "outputs": [
        {
          "output_type": "stream",
          "text": [
            "False\n",
            "True\n"
          ],
          "name": "stdout"
        }
      ]
    },
    {
      "cell_type": "code",
      "metadata": {
        "id": "xgXTiG3nJkuE",
        "outputId": "d8940728-17f3-4819-dcf6-d5dd81ed6b6a"
      },
      "source": [
        "string.split(\" \")"
      ],
      "execution_count": null,
      "outputs": [
        {
          "output_type": "execute_result",
          "data": {
            "text/plain": [
              "['Turgut', 'BENOL']"
            ]
          },
          "metadata": {
            "tags": []
          },
          "execution_count": 180
        }
      ]
    },
    {
      "cell_type": "code",
      "metadata": {
        "id": "vkHYejIQJkuG",
        "outputId": "4170bc60-609d-49be-85e3-34e3b76eb59e"
      },
      "source": [
        "string = string.split()\n",
        "string = \"cum \".join(string)\n",
        "print(string)"
      ],
      "execution_count": null,
      "outputs": [
        {
          "output_type": "stream",
          "text": [
            "Turgutcum BENOL\n"
          ],
          "name": "stdout"
        }
      ]
    },
    {
      "cell_type": "code",
      "metadata": {
        "id": "uKzCcZ03JkuH",
        "outputId": "3e3c53e1-6084-4651-bf5a-5c6e2a0408f9"
      },
      "source": [
        "gezegenler = \"Merkür,Venüs,Dünya,Mars,Jüpiter,Satürn,Uranüs,Neptün\"\n",
        "gezegenler = gezegenler.split(\",\")\n",
        "print(gezegenler)\n",
        "\n",
        "sıralanmış_gezegenler = \" - \".join(sorted(gezegenler, reverse=True))\n",
        "\"\"\"\n",
        "sıralanmış_gezegenler = sorted(gezegenler)\n",
        "sıralanmış_gezegenler = sıralanmış_gezegenler[::-1]\n",
        "sıralanmış_gezgenler = \" - \".join(sıralanmış_gezegenler)\n",
        "print(sıralanmış_gezegenler)\n",
        "\"\"\"\n",
        "print(sıralanmış_gezegenler)\n"
      ],
      "execution_count": null,
      "outputs": [
        {
          "output_type": "stream",
          "text": [
            "['Merkür', 'Venüs', 'Dünya', 'Mars', 'Jüpiter', 'Satürn', 'Uranüs', 'Neptün']\n",
            "Venüs - Uranüs - Satürn - Neptün - Merkür - Mars - Jüpiter - Dünya\n"
          ],
          "name": "stdout"
        }
      ]
    },
    {
      "cell_type": "code",
      "metadata": {
        "id": "LTBL28HTJkuI",
        "outputId": "12daedfb-8543-4019-81a7-babb7d9a85e8"
      },
      "source": [
        "gezegenler = \"     Merkür Venüs Dünya Mars Jüpiter Satürn Uranüs Neptün       \"\n",
        "gezegenler.strip()"
      ],
      "execution_count": null,
      "outputs": [
        {
          "output_type": "execute_result",
          "data": {
            "text/plain": [
              "'Merkür Venüs Dünya Mars Jüpiter Satürn Uranüs Neptün'"
            ]
          },
          "metadata": {
            "tags": []
          },
          "execution_count": 187
        }
      ]
    },
    {
      "cell_type": "code",
      "metadata": {
        "id": "PJqqFF7OJkuJ",
        "outputId": "399a37b2-9a1b-46d6-da04-337358be929b"
      },
      "source": [
        "gezegenler = \"     Merkür Venüs Dünya Mars Jüpiter Satürn Uranüs Neptün       \"\n",
        "gezegenler.rstrip()"
      ],
      "execution_count": null,
      "outputs": [
        {
          "output_type": "execute_result",
          "data": {
            "text/plain": [
              "'     Merkür Venüs Dünya Mars Jüpiter Satürn Uranüs Neptün'"
            ]
          },
          "metadata": {
            "tags": []
          },
          "execution_count": 189
        }
      ]
    },
    {
      "cell_type": "markdown",
      "metadata": {
        "id": "V0B2QkdWJkuK"
      },
      "source": [
        "## Fonksiyonlar ( Functions )"
      ]
    },
    {
      "cell_type": "code",
      "metadata": {
        "id": "msp6-4AjJkuK",
        "outputId": "0b3b8616-ba1a-40e5-b622-c16c16784351"
      },
      "source": [
        "def not_hesaplama(ad, puanlar):\n",
        "    ortalama = sum(puanlar) / len(puanlar)\n",
        "    \n",
        "    if ortalama > 90:\n",
        "        harf = 'A'\n",
        "    elif ortalama > 80:\n",
        "        harf = 'B'\n",
        "    elif ortalama > 60:\n",
        "        harf = 'C'\n",
        "    elif ortalama > 50:\n",
        "        harf = 'D'\n",
        "    else:\n",
        "        harf = 'F'\n",
        "    \n",
        "    print(f'\\nİsim: {ad}\\nOrtalama: {ortalama:.2f}\\nHarf notu: {harf}\\n', end=\"-\"*20)\n",
        "\n",
        "not_hesaplama('Ahmet DENİZ', (60, 100, 75))\n",
        "not_hesaplama('Aylin TÜRK', (20, 50, 65))\n",
        "not_hesaplama('Murat YILMAZ', (100, 100, 85))"
      ],
      "execution_count": null,
      "outputs": [
        {
          "output_type": "stream",
          "text": [
            "\n",
            "İsim: Ahmet DENİZ\n",
            "Ortalama: 78.33\n",
            "Harf notu: C\n",
            "--------------------\n",
            "İsim: Aylin TÜRK\n",
            "Ortalama: 45.00\n",
            "Harf notu: F\n",
            "--------------------\n",
            "İsim: Murat YILMAZ\n",
            "Ortalama: 95.00\n",
            "Harf notu: A\n",
            "--------------------"
          ],
          "name": "stdout"
        }
      ]
    },
    {
      "cell_type": "code",
      "metadata": {
        "id": "0S3WZf4kJkuL",
        "outputId": "b8a1a260-c232-4e68-f861-c4e52e26bd8c"
      },
      "source": [
        "def carp(a=10, b=10):\n",
        "    sonuc = a * b\n",
        "    return sonuc\n",
        "\n",
        "sonuc = carp()\n",
        "print(sonuc)\n",
        "\n",
        "print(carp(5, 4))\n",
        "print(carp(b=32, a=2))"
      ],
      "execution_count": null,
      "outputs": [
        {
          "output_type": "stream",
          "text": [
            "100\n",
            "20\n",
            "64\n"
          ],
          "name": "stdout"
        }
      ]
    },
    {
      "cell_type": "code",
      "metadata": {
        "id": "Il7Fjz8jJkuQ",
        "outputId": "fed709b1-e063-4fa5-d5a1-33fb8644004c"
      },
      "source": [
        "a = 5\n",
        "def a_degistirme():\n",
        "    a = 10\n",
        "    print(a)\n",
        "a_degistirme()\n",
        "print(a)"
      ],
      "execution_count": null,
      "outputs": [
        {
          "output_type": "stream",
          "text": [
            "10\n",
            "5\n"
          ],
          "name": "stdout"
        }
      ]
    },
    {
      "cell_type": "code",
      "metadata": {
        "id": "Ea_sU_BGJkuR",
        "outputId": "80b760c8-cc1e-4e4f-c60b-a85f3c82de5a"
      },
      "source": [
        "a = 5\n",
        "def a_degistirme():\n",
        "    global a\n",
        "    a = 10\n",
        "    print(a)\n",
        "a_degistirme()\n",
        "print(a)"
      ],
      "execution_count": null,
      "outputs": [
        {
          "output_type": "stream",
          "text": [
            "10\n",
            "10\n"
          ],
          "name": "stdout"
        }
      ]
    },
    {
      "cell_type": "markdown",
      "metadata": {
        "id": "rGfUR7zJJkuS"
      },
      "source": [
        "## Nesne Yönelimli Programlama GİRİŞ ( Beginning OOP )"
      ]
    },
    {
      "cell_type": "code",
      "metadata": {
        "id": "dx6d34ekJkuS",
        "outputId": "2d0bf69f-f385-4ebb-f7a4-c76d19255a62"
      },
      "source": [
        "class Araba:\n",
        "    def sür(self):\n",
        "        print('Araba gidiyor..')\n",
        "    \n",
        "    def dur(self):\n",
        "        print('Araba duruyor..')\n",
        "        \n",
        "\n",
        "araba = Araba()\n",
        "araba.sür()\n",
        "araba.dur()\n",
        "araba.sür()"
      ],
      "execution_count": null,
      "outputs": [
        {
          "output_type": "stream",
          "text": [
            "Araba gidiyor..\n",
            "Araba duruyor..\n",
            "Araba gidiyor..\n"
          ],
          "name": "stdout"
        }
      ]
    },
    {
      "cell_type": "code",
      "metadata": {
        "id": "oo_b3X7UJkuT"
      },
      "source": [
        "class Araba:\n",
        "    \"\"\"\n",
        "    Python dersi için tanımladığımız araba sınıfımız.\n",
        "    -------------------------------------------------\n",
        "    Sınıf içerisinde arabanın yapmasını istediğimiz \n",
        "    ve yapabileceği fonksiyonları barındırıyor.\n",
        "    \"\"\"\n",
        "    def __init__(self, marka, model, yıl, renk):\n",
        "        \"\"\"\n",
        "        Bir nesne oluştururken aşağıdaki parametreleri\n",
        "        vermeyi unutmayın!\n",
        "        => Marka, Model, Yıl ve Renk\n",
        "        \"\"\"\n",
        "        self.marka = marka\n",
        "        self.model = model\n",
        "        self.yıl = yıl\n",
        "        self.renk = renk\n",
        "        self.durum = 0\n",
        "        \"\"\"\n",
        "        0: Kapalı\n",
        "        1: Çalışır halde duruyor\n",
        "        2: Gidiyor\n",
        "        \"\"\"\n",
        "        \n",
        "    def çalıştır(self):\n",
        "        self.durum = 1 \n",
        "    \n",
        "    def durdur(self):\n",
        "        self.durum = 0 \n",
        "        \n",
        "    def sür(self):\n",
        "        if self.durum:\n",
        "            print('{} gidiyor'.format(self.model))\n",
        "            self.durum = 2\n",
        "        else:\n",
        "            print('Önce arabayı çalıştır')\n",
        "    \n",
        "    def dur(self):\n",
        "        if self.durum:\n",
        "            print('{} duruyor'.format(self.model))\n",
        "            self.durum = 1\n",
        "        else:\n",
        "            print('Önce arabayı çalıştır')\n",
        "            \n",
        "    def özellikleri_yazdır(self):\n",
        "        print(f\"Marka: {self.marka:<10}\\\n",
        "        Model: {self.model:<10}\\\n",
        "        Yıl: {self.yıl:<10}\\\n",
        "        Renk: {self.renk:<10}\")"
      ],
      "execution_count": null,
      "outputs": []
    },
    {
      "cell_type": "code",
      "metadata": {
        "id": "fNQfyFq2JkuU",
        "outputId": "39f83c2e-2b10-4065-d38f-8571aa254bec"
      },
      "source": [
        "\n",
        "araba1 = Araba('Dodge', 'Challenger', '2016', 'Siyah')\n",
        "araba1.sür()\n",
        "araba1.çalıştır()\n",
        "araba1.sür()\n",
        "araba1.özellikleri_yazdır()\n",
        "araba1.dur()"
      ],
      "execution_count": null,
      "outputs": [
        {
          "output_type": "stream",
          "text": [
            "Önce arabayı çalıştır\n",
            "Challenger gidiyor\n",
            "Marka: Dodge             Model: Challenger        Yıl: 2016              Renk: Siyah     \n",
            "Challenger duruyor\n"
          ],
          "name": "stdout"
        }
      ]
    },
    {
      "cell_type": "code",
      "metadata": {
        "id": "iXoLgEdTJkuV"
      },
      "source": [
        "araba2 = Araba('Ford', 'Mustang', '1971', 'Sarı-Siyah')\n",
        "araba2.sür()\n",
        "araba2.çalıştır()\n",
        "araba2.sür()\n",
        "araba2.özellikleri_yazdır()\n",
        "araba2.dur()"
      ],
      "execution_count": null,
      "outputs": []
    },
    {
      "cell_type": "code",
      "metadata": {
        "id": "VeA3fllZJkuW"
      },
      "source": [
        ""
      ],
      "execution_count": null,
      "outputs": []
    },
    {
      "cell_type": "code",
      "metadata": {
        "id": "GC4xL7T2JkuX"
      },
      "source": [
        ""
      ],
      "execution_count": null,
      "outputs": []
    },
    {
      "cell_type": "code",
      "metadata": {
        "id": "_nduNsrIJkuX"
      },
      "source": [
        ""
      ],
      "execution_count": null,
      "outputs": []
    },
    {
      "cell_type": "code",
      "metadata": {
        "id": "R2a8KdLPJkuZ"
      },
      "source": [
        ""
      ],
      "execution_count": null,
      "outputs": []
    },
    {
      "cell_type": "code",
      "metadata": {
        "id": "SYyLUCibJkua"
      },
      "source": [
        ""
      ],
      "execution_count": null,
      "outputs": []
    },
    {
      "cell_type": "code",
      "metadata": {
        "id": "ltYFce7KJkub"
      },
      "source": [
        ""
      ],
      "execution_count": null,
      "outputs": []
    }
  ]
}